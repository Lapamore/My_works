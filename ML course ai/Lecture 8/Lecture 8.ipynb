{
 "cells": [
  {
   "cell_type": "code",
   "execution_count": 2,
   "id": "4676f39f",
   "metadata": {},
   "outputs": [],
   "source": [
    "from sklearn.datasets import load_files\n",
    "import os"
   ]
  },
  {
   "cell_type": "code",
   "execution_count": 19,
   "id": "2c217b7a",
   "metadata": {},
   "outputs": [],
   "source": [
    "train_reviews = load_files(os.path.join('data/aclImdb/', 'train'), categories=[\"pos\", \"neg\"])"
   ]
  },
  {
   "cell_type": "code",
   "execution_count": 18,
   "id": "40ab4caf",
   "metadata": {},
   "outputs": [],
   "source": [
    "test_reviews = load_files(os.path.join('data/aclImdb/', 'test'),categories=[\"pos\", \"neg\"])"
   ]
  },
  {
   "cell_type": "code",
   "execution_count": 20,
   "id": "85659b00",
   "metadata": {},
   "outputs": [
    {
     "data": {
      "text/plain": [
       "b\"Zero Day leads you to think, even re-think why two boys/young men would do what they did - commit mutual suicide via slaughtering their classmates. It captures what must be beyond a bizarre mode of being for two humans who have decided to withdraw from common civility in order to define their own/mutual world via coupled destruction.<br /><br />It is not a perfect movie but given what money/time the filmmaker and actors had - it is a remarkable product. In terms of explaining the motives and actions of the two young suicide/murderers it is better than 'Elephant' - in terms of being a film that gets under our 'rationalistic' skin it is a far, far better film than almost anything you are likely to see. <br /><br />Flawed but honest with a terrible honesty.\""
      ]
     },
     "execution_count": 20,
     "metadata": {},
     "output_type": "execute_result"
    }
   ],
   "source": [
    "train_reviews.data[0]"
   ]
  },
  {
   "cell_type": "code",
   "execution_count": 21,
   "id": "f9279e2c",
   "metadata": {},
   "outputs": [
    {
     "data": {
      "text/plain": [
       "1"
      ]
     },
     "execution_count": 21,
     "metadata": {},
     "output_type": "execute_result"
    }
   ],
   "source": [
    "train_reviews.target[0]"
   ]
  },
  {
   "cell_type": "code",
   "execution_count": 22,
   "id": "54ac4cff",
   "metadata": {},
   "outputs": [
    {
     "data": {
      "text/plain": [
       "b'Words can\\'t describe how bad this movie is. I can\\'t explain it by writing only. You have too see it for yourself to get at grip of how horrible a movie really can be. Not that I recommend you to do that. There are so many clich\\xc3\\xa9s, mistakes (and all other negative things you can imagine) here that will just make you cry. To start with the technical first, there are a LOT of mistakes regarding the airplane. I won\\'t list them here, but just mention the coloring of the plane. They didn\\'t even manage to show an airliner in the colors of a fictional airline, but instead used a 747 painted in the original Boeing livery. Very bad. The plot is stupid and has been done many times before, only much, much better. There are so many ridiculous moments here that i lost count of it really early. Also, I was on the bad guys\\' side all the time in the movie, because the good guys were so stupid. \"Executive Decision\" should without a doubt be you\\'re choice over this one, even the \"Turbulence\"-movies are better. In fact, every other movie in the world is better than this one.'"
      ]
     },
     "execution_count": 22,
     "metadata": {},
     "output_type": "execute_result"
    }
   ],
   "source": [
    "train_reviews.data[1]"
   ]
  },
  {
   "cell_type": "code",
   "execution_count": 23,
   "id": "974de024",
   "metadata": {},
   "outputs": [
    {
     "data": {
      "text/plain": [
       "0"
      ]
     },
     "execution_count": 23,
     "metadata": {},
     "output_type": "execute_result"
    }
   ],
   "source": [
    "train_reviews.target[1]"
   ]
  },
  {
   "cell_type": "code",
   "execution_count": 30,
   "id": "f09a0663",
   "metadata": {},
   "outputs": [],
   "source": [
    "from scipy.sparse import csr_matrix\n",
    "import numpy as np\n",
    "import pandas as pd"
   ]
  },
  {
   "cell_type": "code",
   "execution_count": 28,
   "id": "0da65bac",
   "metadata": {},
   "outputs": [],
   "source": [
    "a = np.zeros([5,5])\n",
    "a[0, 3] = 1\n",
    "a[4, 4] = 6\n",
    "a[2, 2] = 5\n",
    "a[3, 1] = 4\n",
    "a[3, 2] = 2\n",
    "a[1, 1] = 7"
   ]
  },
  {
   "cell_type": "code",
   "execution_count": 32,
   "id": "ee75c83d",
   "metadata": {},
   "outputs": [
    {
     "data": {
      "text/html": [
       "<div>\n",
       "<style scoped>\n",
       "    .dataframe tbody tr th:only-of-type {\n",
       "        vertical-align: middle;\n",
       "    }\n",
       "\n",
       "    .dataframe tbody tr th {\n",
       "        vertical-align: top;\n",
       "    }\n",
       "\n",
       "    .dataframe thead th {\n",
       "        text-align: right;\n",
       "    }\n",
       "</style>\n",
       "<table border=\"1\" class=\"dataframe\">\n",
       "  <thead>\n",
       "    <tr style=\"text-align: right;\">\n",
       "      <th></th>\n",
       "      <th>apple</th>\n",
       "      <th>wax</th>\n",
       "      <th>sadness</th>\n",
       "      <th>luck</th>\n",
       "      <th>girl</th>\n",
       "    </tr>\n",
       "  </thead>\n",
       "  <tbody>\n",
       "    <tr>\n",
       "      <th>0</th>\n",
       "      <td>0.0</td>\n",
       "      <td>0.0</td>\n",
       "      <td>0.0</td>\n",
       "      <td>1.0</td>\n",
       "      <td>0.0</td>\n",
       "    </tr>\n",
       "    <tr>\n",
       "      <th>1</th>\n",
       "      <td>0.0</td>\n",
       "      <td>7.0</td>\n",
       "      <td>0.0</td>\n",
       "      <td>0.0</td>\n",
       "      <td>0.0</td>\n",
       "    </tr>\n",
       "    <tr>\n",
       "      <th>2</th>\n",
       "      <td>0.0</td>\n",
       "      <td>0.0</td>\n",
       "      <td>5.0</td>\n",
       "      <td>0.0</td>\n",
       "      <td>0.0</td>\n",
       "    </tr>\n",
       "    <tr>\n",
       "      <th>3</th>\n",
       "      <td>0.0</td>\n",
       "      <td>4.0</td>\n",
       "      <td>2.0</td>\n",
       "      <td>0.0</td>\n",
       "      <td>0.0</td>\n",
       "    </tr>\n",
       "    <tr>\n",
       "      <th>4</th>\n",
       "      <td>0.0</td>\n",
       "      <td>0.0</td>\n",
       "      <td>0.0</td>\n",
       "      <td>0.0</td>\n",
       "      <td>6.0</td>\n",
       "    </tr>\n",
       "  </tbody>\n",
       "</table>\n",
       "</div>"
      ],
      "text/plain": [
       "   apple  wax  sadness  luck  girl\n",
       "0    0.0  0.0      0.0   1.0   0.0\n",
       "1    0.0  7.0      0.0   0.0   0.0\n",
       "2    0.0  0.0      5.0   0.0   0.0\n",
       "3    0.0  4.0      2.0   0.0   0.0\n",
       "4    0.0  0.0      0.0   0.0   6.0"
      ]
     },
     "execution_count": 32,
     "metadata": {},
     "output_type": "execute_result"
    }
   ],
   "source": [
    "pd.DataFrame(a, columns=['apple','wax','sadness','luck','girl'])"
   ]
  },
  {
   "cell_type": "code",
   "execution_count": 33,
   "id": "9d7cab49",
   "metadata": {},
   "outputs": [],
   "source": [
    "b = csr_matrix(a)"
   ]
  },
  {
   "cell_type": "code",
   "execution_count": 35,
   "id": "9e8fe976",
   "metadata": {},
   "outputs": [
    {
     "data": {
      "text/plain": [
       "matrix([[0., 0., 0., 1., 0.],\n",
       "        [0., 7., 0., 0., 0.],\n",
       "        [0., 0., 5., 0., 0.],\n",
       "        [0., 4., 2., 0., 0.],\n",
       "        [0., 0., 0., 0., 6.]])"
      ]
     },
     "execution_count": 35,
     "metadata": {},
     "output_type": "execute_result"
    }
   ],
   "source": [
    "b.todense()"
   ]
  },
  {
   "cell_type": "code",
   "execution_count": 36,
   "id": "309714c2",
   "metadata": {},
   "outputs": [
    {
     "data": {
      "text/plain": [
       "(array([0, 1, 2, 3, 3, 4], dtype=int32),\n",
       " array([3, 1, 2, 1, 2, 4], dtype=int32))"
      ]
     },
     "execution_count": 36,
     "metadata": {},
     "output_type": "execute_result"
    }
   ],
   "source": [
    "b.nonzero() # в первом - строчки, где ненулевые а во втором столбцы, где у нас ненулевые значения"
   ]
  },
  {
   "cell_type": "code",
   "execution_count": 38,
   "id": "cad9fcbc",
   "metadata": {},
   "outputs": [],
   "source": [
    "from sklearn.feature_extraction.text import CountVectorizer"
   ]
  },
  {
   "cell_type": "code",
   "execution_count": 59,
   "id": "b670de45",
   "metadata": {},
   "outputs": [],
   "source": [
    "cv = CountVectorizer(ngram_range=(1,2))\n",
    "X_train_sparce = cv.fit_transform(train_reviews.data)"
   ]
  },
  {
   "cell_type": "code",
   "execution_count": 60,
   "id": "35238167",
   "metadata": {},
   "outputs": [],
   "source": [
    "X_test_sparce = cv.transform(test_reviews.data)"
   ]
  },
  {
   "cell_type": "code",
   "execution_count": 61,
   "id": "5bc97448",
   "metadata": {},
   "outputs": [
    {
     "data": {
      "text/plain": [
       "((25000, 1513832), (25000, 1513832))"
      ]
     },
     "execution_count": 61,
     "metadata": {},
     "output_type": "execute_result"
    }
   ],
   "source": [
    "X_train_sparce.shape, X_test_sparce.shape"
   ]
  },
  {
   "cell_type": "code",
   "execution_count": 62,
   "id": "cd1b2051",
   "metadata": {},
   "outputs": [
    {
     "data": {
      "text/plain": [
       "<25000x1513832 sparse matrix of type '<class 'numpy.int64'>'\n",
       "\twith 8765469 stored elements in Compressed Sparse Row format>"
      ]
     },
     "execution_count": 62,
     "metadata": {},
     "output_type": "execute_result"
    }
   ],
   "source": [
    "X_train_sparce"
   ]
  },
  {
   "cell_type": "code",
   "execution_count": 63,
   "id": "55567bc6",
   "metadata": {},
   "outputs": [],
   "source": [
    "from sklearn.linear_model import LogisticRegression, SGDClassifier\n",
    "from sklearn.metrics import accuracy_score"
   ]
  },
  {
   "cell_type": "code",
   "execution_count": 64,
   "id": "632c612e",
   "metadata": {},
   "outputs": [],
   "source": [
    "y_train, y_test = train_reviews.target, test_reviews.target"
   ]
  },
  {
   "cell_type": "code",
   "execution_count": 65,
   "id": "7693a1b3",
   "metadata": {},
   "outputs": [
    {
     "data": {
      "text/plain": [
       "(array([12500, 12500], dtype=int64), array([12500, 12500], dtype=int64))"
      ]
     },
     "execution_count": 65,
     "metadata": {},
     "output_type": "execute_result"
    }
   ],
   "source": [
    "np.bincount(y_train), np.bincount(y_test)"
   ]
  },
  {
   "cell_type": "code",
   "execution_count": 66,
   "id": "da8cfbb4",
   "metadata": {},
   "outputs": [],
   "source": [
    "logit = LogisticRegression(random_state=17, n_jobs=-1, solver='lbfgs')\n",
    "sgd_logit = SGDClassifier(max_iter=40, random_state=17, n_jobs=-1)"
   ]
  },
  {
   "cell_type": "code",
   "execution_count": 67,
   "id": "e4df0ce5",
   "metadata": {},
   "outputs": [
    {
     "name": "stdout",
     "output_type": "stream",
     "text": [
      "Wall time: 53.5 s\n"
     ]
    },
    {
     "data": {
      "text/plain": [
       "LogisticRegression(n_jobs=-1, random_state=17)"
      ]
     },
     "execution_count": 67,
     "metadata": {},
     "output_type": "execute_result"
    }
   ],
   "source": [
    "%%time \n",
    "logit.fit(X_train_sparce, y_train)"
   ]
  },
  {
   "cell_type": "code",
   "execution_count": 68,
   "id": "71f3ec4b",
   "metadata": {},
   "outputs": [
    {
     "name": "stdout",
     "output_type": "stream",
     "text": [
      "Wall time: 1.82 s\n"
     ]
    },
    {
     "data": {
      "text/plain": [
       "SGDClassifier(max_iter=40, n_jobs=-1, random_state=17)"
      ]
     },
     "execution_count": 68,
     "metadata": {},
     "output_type": "execute_result"
    }
   ],
   "source": [
    "%%time \n",
    "sgd_logit.fit(X_train_sparce, y_train)"
   ]
  },
  {
   "cell_type": "code",
   "execution_count": 69,
   "id": "a3446336",
   "metadata": {},
   "outputs": [
    {
     "data": {
      "text/plain": [
       "0.8964"
      ]
     },
     "execution_count": 69,
     "metadata": {},
     "output_type": "execute_result"
    }
   ],
   "source": [
    "accuracy_score(y_test, logit.predict(X_test_sparce))"
   ]
  },
  {
   "cell_type": "code",
   "execution_count": 70,
   "id": "1e92d2d6",
   "metadata": {},
   "outputs": [
    {
     "data": {
      "text/plain": [
       "0.88852"
      ]
     },
     "execution_count": 70,
     "metadata": {},
     "output_type": "execute_result"
    }
   ],
   "source": [
    "accuracy_score(y_test, sgd_logit.predict(X_test_sparce))"
   ]
  },
  {
   "cell_type": "code",
   "execution_count": 71,
   "id": "45c71003",
   "metadata": {},
   "outputs": [
    {
     "data": {
      "text/plain": [
       "580714"
      ]
     },
     "execution_count": 71,
     "metadata": {},
     "output_type": "execute_result"
    }
   ],
   "source": [
    "hash('be very nice') % 10**6"
   ]
  },
  {
   "cell_type": "code",
   "execution_count": null,
   "id": "780b8ebe",
   "metadata": {},
   "outputs": [],
   "source": []
  }
 ],
 "metadata": {
  "kernelspec": {
   "display_name": "Python 3 (ipykernel)",
   "language": "python",
   "name": "python3"
  },
  "language_info": {
   "codemirror_mode": {
    "name": "ipython",
    "version": 3
   },
   "file_extension": ".py",
   "mimetype": "text/x-python",
   "name": "python",
   "nbconvert_exporter": "python",
   "pygments_lexer": "ipython3",
   "version": "3.9.13"
  }
 },
 "nbformat": 4,
 "nbformat_minor": 5
}
