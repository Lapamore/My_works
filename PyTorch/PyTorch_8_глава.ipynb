{
  "cells": [
    {
      "cell_type": "code",
      "execution_count": null,
      "metadata": {
        "id": "hZ6g12IS0jDo"
      },
      "outputs": [],
      "source": [
        "import torch\n",
        "import torch.nn as nn\n",
        "from torchvision import transforms, datasets\n",
        "import matplotlib.pyplot as plt\n",
        "import torch.optim as optim"
      ]
    },
    {
      "cell_type": "code",
      "execution_count": null,
      "metadata": {
        "id": "oh2bFA9A_w91",
        "colab": {
          "base_uri": "https://localhost:8080/"
        },
        "outputId": "f39b59b0-1590-4c41-fb8d-affb86d8f096"
      },
      "outputs": [
        {
          "output_type": "stream",
          "name": "stdout",
          "text": [
            "Files already downloaded and verified\n",
            "Files already downloaded and verified\n"
          ]
        }
      ],
      "source": [
        "data_path = \"data/\"\n",
        "cifar10 = datasets.CIFAR10(data_path, train=True, download=True,\n",
        "                           transform=transforms.Compose([\n",
        "                              transforms.ToTensor(),\n",
        "                              transforms.Normalize(\n",
        "                                  (0.4914, 0.4822, 0.4465),\n",
        "                                  (0.2470, 0.2435, 0.2616)\n",
        "                              )\n",
        "                           ]))\n",
        "\n",
        "cifar10_val = datasets.CIFAR10(data_path, train=False, download=True,\n",
        "                           transform=transforms.Compose([\n",
        "                              transforms.ToTensor(),\n",
        "                              transforms.Normalize(\n",
        "                                  (0.4914, 0.4822, 0.4465),\n",
        "                                  (0.2470, 0.2435, 0.2616)\n",
        "                              )\n",
        "                           ]))"
      ]
    },
    {
      "cell_type": "code",
      "execution_count": null,
      "metadata": {
        "id": "rK-_ltijC4PB"
      },
      "outputs": [],
      "source": [
        "label_map = {0: 0, 2: 1}\n",
        "class_names = ['airplane', 'bird']\n",
        "cifar2 = [(img, label_map[label]) for img, label in cifar10 if label in [0, 2]]\n",
        "cifar2_val = [(img, label_map[label]) for img, label in cifar10_val if label in [0, 2]]"
      ]
    },
    {
      "cell_type": "code",
      "execution_count": null,
      "metadata": {
        "id": "9tbRHtsv02Dc"
      },
      "outputs": [],
      "source": [
        "conv = nn.Conv2d(3, 16, kernel_size=3) # Вместо сокращенной формы записи kernel_size=3 мы можем передать кортеж, показанный в выведенных результатах: kernel_size=(3, 3)"
      ]
    },
    {
      "cell_type": "code",
      "execution_count": null,
      "metadata": {
        "id": "Bq0HwGfo91Nu",
        "colab": {
          "base_uri": "https://localhost:8080/"
        },
        "outputId": "04744fe7-e9d7-4267-b8ff-4b73aeed8cf1"
      },
      "outputs": [
        {
          "output_type": "execute_result",
          "data": {
            "text/plain": [
              "(torch.Size([1, 3, 32, 32]), torch.Size([1, 16, 30, 30]))"
            ]
          },
          "metadata": {},
          "execution_count": 88
        }
      ],
      "source": [
        "img, _ = cifar2[0]\n",
        "output = conv(img.unsqueeze(0))\n",
        "img.unsqueeze(0).shape, output.shape"
      ]
    },
    {
      "cell_type": "code",
      "execution_count": null,
      "metadata": {
        "id": "GkwlgnF0Bgi8",
        "colab": {
          "base_uri": "https://localhost:8080/",
          "height": 430
        },
        "outputId": "96c80732-d914-4d7b-a0da-108eb35f99b6"
      },
      "outputs": [
        {
          "output_type": "display_data",
          "data": {
            "text/plain": [
              "<Figure size 640x480 with 1 Axes>"
            ],
            "image/png": "[encoded data removed]"
          },
          "metadata": {}
        }
      ],
      "source": [
        "plt.imshow(output[0,0].detach(), cmap='gray')\n",
        "plt.show()"
      ]
    },
    {
      "cell_type": "markdown",
      "metadata": {
        "id": "bki-jkanNpGx"
      },
      "source": [
        "# 8.2.1. Дополнение нулями по краям"
      ]
    },
    {
      "cell_type": "markdown",
      "metadata": {
        "id": "BaVCugC_NwyM"
      },
      "source": [
        "Применение\n",
        "сверточного ядра в виде взвешенной суммы пикселей в окрестности размера\n",
        "3 × 3 требует наличия соседних пикселей во всех направлениях. А в точке i00\n",
        "соседние пиксели есть только справа и снизу. По умолчанию сверточное ядро\n",
        "в PyTorch проходит по входному изображению, получая ширина - ширина_ядра + 1\n",
        "по горизонтали и вертикали. В случае ядер нечетного размера в результате получаются изображения, которые меньше с каждой стороны на половину ширины\n",
        "сверточного ядра (в нашем случае 3 // 2 = 1). Поэтому нам и не хватает по два\n",
        "пикселя в каждом измерении.\n",
        "Впрочем, PyTorch позволяет дополнять нулями (padding) изображения, путем\n",
        "добавления границ с помощью фиктивных (ghost) пикселей с нулевымзначением."
      ]
    },
    {
      "cell_type": "markdown",
      "metadata": {
        "id": "0MbVi75wODZ5"
      },
      "source": [
        "В нашем случае параметр padding=1 при kernel_size=3 означает появление\n",
        "у i00 набора дополнительных соседей сверху и слева, что позволяет вычислять\n",
        "выходной сигнал свертки даже в углу исходного изображения1\n",
        ". В итоге размер\n",
        "выходного изображения оказывается точно таким же, как и входного:"
      ]
    },
    {
      "cell_type": "code",
      "execution_count": null,
      "metadata": {
        "id": "utojNenqDlwN",
        "colab": {
          "base_uri": "https://localhost:8080/"
        },
        "outputId": "afddc4fc-4e83-438e-b818-5bbf02b2fca7"
      },
      "outputs": [
        {
          "output_type": "execute_result",
          "data": {
            "text/plain": [
              "torch.Size([1, 1, 32, 32])"
            ]
          },
          "metadata": {},
          "execution_count": 90
        }
      ],
      "source": [
        "conv = nn.Conv2d(3, 1, padding=1, kernel_size=3)\n",
        "output = conv(img.unsqueeze(0))\n",
        "output.shape"
      ]
    },
    {
      "cell_type": "markdown",
      "metadata": {
        "id": "Ou7_ZlScOn_S"
      },
      "source": [
        "Для ядер четного размера пришлось бы дополнять другим количеством соседей\n",
        "слева и справа (а также сверху и снизу). PyTorch не предоставляет подобной возможности в самой свертке, но дает возможность решить эту задачу с помощью функции\n",
        "torch.nn.functional.pad. Но лучше придерживаться нечетных размеров ядер; ядра четного\n",
        "размера встречаются редко."
      ]
    },
    {
      "cell_type": "markdown",
      "metadata": {
        "id": "-RQMnKnqO-d_"
      },
      "source": [
        "# 8.2.2. Обнаружение признаков с помощью сверток"
      ]
    },
    {
      "cell_type": "markdown",
      "metadata": {
        "id": "PTwcJZbTQMxd"
      },
      "source": [
        "Мы уже говорили, что weight и bias — это параметры, усваиваемые посредством\n",
        "обратного распространения ошибки, точно так же, как weight и bias в nn.Linear.\n",
        "Однако можно поэкспериментировать со сверткой, задавая весовые коэффициенты вручную, и посмотреть, что получится.\n",
        "Сначала обнулим bias, просто чтобы исключить все мешающие факторы, после\n",
        "чего зададимконстантное значение weight, чтобы каждый пиксель выходного изображения получал среднее значение своих соседей. Для каждой окрестности 3 × 3:"
      ]
    },
    {
      "cell_type": "code",
      "execution_count": null,
      "metadata": {
        "id": "bV8kLNxXOV_-"
      },
      "outputs": [],
      "source": [
        "with torch.no_grad():\n",
        "     conv.bias.zero_()\n",
        "\n",
        "with torch.no_grad():\n",
        "     conv.weight.fill_(1.0 / 9.0)"
      ]
    },
    {
      "cell_type": "markdown",
      "metadata": {
        "id": "BP_oC1l0Q-O_"
      },
      "source": [
        "Можно было воспользоваться conv.weight.one_() — при этом каждый пиксель\n",
        "выходного изображения был бы равен сумме окрестных пикселей. Различия незначительны, разве что значения пикселей в выходном изображении оказались\n",
        "бы в девять раз больше"
      ]
    },
    {
      "cell_type": "markdown",
      "metadata": {
        "id": "dPt3kriGRBgi"
      },
      "source": [
        "В любом случае взглянем, как это повлияет на наше изображение"
      ]
    },
    {
      "cell_type": "code",
      "execution_count": null,
      "metadata": {
        "id": "NDnzWvuNQrRg",
        "colab": {
          "base_uri": "https://localhost:8080/",
          "height": 430
        },
        "outputId": "b708f1e5-4f13-4673-b7b5-1c5696664cb1"
      },
      "outputs": [
        {
          "output_type": "display_data",
          "data": {
            "text/plain": [
              "<Figure size 640x480 with 1 Axes>"
            ],
            "image/png": "[encoded data removed]"
          },
          "metadata": {}
        }
      ],
      "source": [
        "output = conv(img.unsqueeze(0))\n",
        "plt.imshow(output[0,0].detach(), cmap='gray')\n",
        "plt.show()"
      ]
    },
    {
      "cell_type": "code",
      "execution_count": null,
      "metadata": {
        "id": "7xvpIztWSbo1"
      },
      "outputs": [],
      "source": [
        "conv = nn.Conv2d(3, 1, kernel_size=3, padding=1)\n",
        "with torch.no_grad():\n",
        "     conv.weight[:] = torch.tensor([[-1, 0, 1],\n",
        "                                   [-1, 0, 1],\n",
        "                                   [-1, 0, 1]])\n",
        "     conv.bias.zero_()"
      ]
    },
    {
      "cell_type": "markdown",
      "metadata": {
        "id": "CN-npJsVgl0W"
      },
      "source": [
        "# От большого к малому: понижающая дискретизация\n",
        "\n",
        "1. Усреднять значения четырех входных пикселей — изначально весьма распространенный подход под названием «усредняющая субд\n",
        "искретизация» (average pooling), несколько утративший популярность в последнее время;\n",
        "\n",
        "2. Брать максимум из значений четырех входных пикселей — в настоящее время чаще всего используется именно этот подход: субдискретизация с выбором максимального значения (max pooling). Его недостаток в том, что отбрасываются три четверти данных;\n",
        "\n",
        "3. Шаговая свертка (strided convolution), при которой учитывается лишь каждый N-й пиксель — свертка 3 × 4 с шагом 2 позволяет учесть значения всех пикселей предыдущего слоя. Судя по публикациям, этот подход весьмаперспективен, хотя и не вытеснил пока что субдискретизацию с выбором максимального значения\n",
        "\n",
        "![image.png](attachment:image.png)"
      ]
    },
    {
      "cell_type": "markdown",
      "metadata": {
        "id": "hpw7_P5bUGtw"
      },
      "source": [
        "Возможности субдискретизации с выбором максимального значения предоставляет модуль nn.MaxPool2d (как и для свертки, существуют его версии для одномерных и трехмерных данных). В качестве входного аргумента ему передается\n",
        "размер окрестности для работы операции субдискретизации. Например, для\n",
        "понижающей дискретизации изображения в два раза необходимо передавать\n",
        "значение 2. Давайте проверим, что все работает правильно, прямо на нашем\n",
        "входном изображении:"
      ]
    },
    {
      "cell_type": "code",
      "execution_count": null,
      "metadata": {
        "id": "_37gOeK4gl0X"
      },
      "outputs": [],
      "source": [
        "pool = nn.MaxPool2d(2)\n",
        "output = pool(img.unsqueeze(0))"
      ]
    },
    {
      "cell_type": "code",
      "execution_count": null,
      "metadata": {
        "id": "MI63_mgggl0X",
        "colab": {
          "base_uri": "https://localhost:8080/",
          "height": 430
        },
        "outputId": "7d1c1f8c-5a29-4f6f-c12d-c301d3592496"
      },
      "outputs": [
        {
          "output_type": "display_data",
          "data": {
            "text/plain": [
              "<Figure size 640x480 with 1 Axes>"
            ],
            "image/png": "[encoded data removed]"
          },
          "metadata": {}
        }
      ],
      "source": [
        "plt.imshow(output[0, 0], cmap='gray');"
      ]
    },
    {
      "cell_type": "code",
      "execution_count": null,
      "metadata": {
        "id": "CqdyA8lQgl0X",
        "colab": {
          "base_uri": "https://localhost:8080/"
        },
        "outputId": "758d11f9-c00d-418b-8324-704254d48639"
      },
      "outputs": [
        {
          "output_type": "execute_result",
          "data": {
            "text/plain": [
              "torch.Size([1, 3, 16, 16])"
            ]
          },
          "metadata": {},
          "execution_count": 96
        }
      ],
      "source": [
        "output.shape"
      ]
    },
    {
      "cell_type": "markdown",
      "metadata": {
        "id": "wUKUcE_kgl0Y"
      },
      "source": [
        "# Сочетание сверточных слоев и понижающей дискретизации для лучшего распознавания"
      ]
    },
    {
      "cell_type": "code",
      "execution_count": null,
      "metadata": {
        "id": "QPdhTRULgl0Y"
      },
      "outputs": [],
      "source": [
        "# model = nn.Sequential(\n",
        "#     nn.Conv2d(3, 16, padding=1, kernel_sise=3),\n",
        "#     nn.Tanh(),\n",
        "#     nn.MaxPool2d(2),\n",
        "#     nn.Conv2d(16, 8, padding=1, kernel_size=3),\n",
        "#     nn.Tanh(),\n",
        "#     nn.MaxPool2d(2),\n",
        "#     ...,\n",
        "#     nn.Linear(8*8*8, 32),\n",
        "#     nn.Tanh(),\n",
        "#     nn.Linear(32, 2)\n",
        "# )"
      ]
    },
    {
      "cell_type": "markdown",
      "metadata": {
        "id": "g4vV3DRMonc8"
      },
      "source": [
        "# 8.3.1. Наша сеть как подкласс nn.Module"
      ]
    },
    {
      "cell_type": "markdown",
      "metadata": {
        "id": "46Jn7E5CpaSS"
      },
      "source": [
        "Напишем нашу сеть в виде подмодуля. Для этого создадим все экземпляры\n",
        "всех слоев nn.Conv2d, nn.Linear и т. д., которые выше передавали в конструктор,\n",
        "а затем воспользуемся этими экземплярами один за другим в функции forward:"
      ]
    },
    {
      "cell_type": "code",
      "execution_count": null,
      "metadata": {
        "id": "Yzc9O7DfooyI"
      },
      "outputs": [],
      "source": [
        "class Net(nn.Module):\n",
        "      def __init__(self):\n",
        "          super().__init__()\n",
        "          self.conv1 = nn.Conv2d(3, 16, kernel_size=3, padding=1)\n",
        "          self.act1 = nn.Tanh()\n",
        "          self.pool1 = nn.MaxPool2d(2)\n",
        "          self.conv2 = nn.Conv2d(16, 8, kernel_size=3, padding=1)\n",
        "          self.act2 = nn.Tanh()\n",
        "          self.pool2 = nn.MaxPool2d(2)\n",
        "          self.fc1 = nn.Linear(8 * 8 * 8, 32)\n",
        "          self.act3 = nn.Tanh()\n",
        "          self.fc2 = nn.Linear(32, 2)\n",
        "\n",
        "      def forward(self, x):\n",
        "          out = self.pool1(self.act1(self.conv1(x)))\n",
        "          out = self.pool2(self.act2(self.conv2(out)))\n",
        "          out = out.view(-1, 8 * 8 * 8) # Шаг изменения формы, который отсутствовал у нас ранее\n",
        "          out = self.act3(self.fc1(out))\n",
        "          out = self.fc2(out)\n",
        "          return out"
      ]
    },
    {
      "cell_type": "markdown",
      "metadata": {
        "id": "xC6RQNhozyS3"
      },
      "source": [
        "# 8.3.2. Как PyTorch отслеживает параметры и подмодули"
      ]
    },
    {
      "cell_type": "markdown",
      "metadata": {
        "id": "MWNBzIwlz2Dk"
      },
      "source": [
        "Можно вызывать любые методы подкласса nn.Module. Например, в модели,\n",
        "где процесс обучения существенно отличается от, скажем, предсказания, не\n",
        "помешает метод predict. Учтите, что вызовы подобных методов аналогичны\n",
        "вызову forward вместо самого модуля: они ничего не знают о точках привязки,\n",
        "и JIT при их использовании не видит структуры модуля, поскольку отсутствует\n",
        "эквивалент элементов __call__, показанных в подразделе 6.2.1.\n",
        "Благодаря этому для доступа из Net к параметрам подмодулей не требуется\n",
        "каких-либо дополнительных действий пользователя:"
      ]
    },
    {
      "cell_type": "code",
      "execution_count": null,
      "metadata": {
        "id": "mEtYIRpVrflT"
      },
      "outputs": [],
      "source": [
        "model = Net()"
      ]
    },
    {
      "cell_type": "code",
      "execution_count": null,
      "metadata": {
        "id": "KE6cSKniz4E5"
      },
      "outputs": [],
      "source": [
        "numel_list = [p.numel() for p in model.parameters()]"
      ]
    },
    {
      "cell_type": "code",
      "execution_count": null,
      "metadata": {
        "id": "dS3xagKQ0AIB",
        "colab": {
          "base_uri": "https://localhost:8080/"
        },
        "outputId": "10c82fe4-7bf5-4fc0-8222-4f2de2e9116e"
      },
      "outputs": [
        {
          "output_type": "execute_result",
          "data": {
            "text/plain": [
              "(18090, [432, 16, 1152, 8, 16384, 32, 64, 2])"
            ]
          },
          "metadata": {},
          "execution_count": 101
        }
      ],
      "source": [
        "sum(numel_list), numel_list"
      ]
    },
    {
      "cell_type": "code",
      "execution_count": null,
      "metadata": {
        "id": "BFTxEvOh0Cp6"
      },
      "outputs": [],
      "source": [
        "import torch.nn.functional as F\n",
        "\n",
        "class Net(nn.Module):\n",
        "      def __init__(self):\n",
        "          super().__init__()\n",
        "          self.conv1 = nn.Conv2d(3, 16, kernel_size=3, padding=1)\n",
        "          self.conv2 = nn.Conv2d(16, 8, kernel_size=3, padding=1)\n",
        "          self.fc1 = nn.Linear(8 * 8 * 8, 32)\n",
        "          self.fc2 = nn.Linear(32, 2)\n",
        "\n",
        "      def forward(self, x):\n",
        "          out = F.max_pool2d(torch.tanh(self.conv1(x)), 2)\n",
        "          out = F.max_pool2d(torch.tanh(self.conv2(out)), 2)\n",
        "          out = out.view(-1, 8 * 8 * 8)\n",
        "          out = torch.tanh(self.fc1(out))\n",
        "          out = self.fc2(out)\n",
        "          return out"
      ]
    },
    {
      "cell_type": "markdown",
      "metadata": {
        "id": "oHsLtsLN5HkA"
      },
      "source": [
        "Намного лаконичнее и полностью эквивалентно предыдущему описанию класса Net из подраздела 8.3.1. Обратите внимание, что по-прежнему имеет смысл\n",
        "создать экземпляры модулей, требующих несколько параметров для их инициализации в конструкторе."
      ]
    },
    {
      "cell_type": "markdown",
      "metadata": {
        "id": "kUxgfzDE6oTS"
      },
      "source": [
        "Давайте еще раз проверим, что наша модель работает, а затем перейдем к циклу\n",
        "обучения:"
      ]
    },
    {
      "cell_type": "code",
      "execution_count": null,
      "metadata": {
        "id": "j2BsMgO15ECi"
      },
      "outputs": [],
      "source": [
        "model = Net()\n",
        "#output = model(img.unsqueeze(0))"
      ]
    },
    {
      "cell_type": "code",
      "source": [
        "print([p.numel() for p in model.parameters()])"
      ],
      "metadata": {
        "colab": {
          "base_uri": "https://localhost:8080/"
        },
        "id": "IK_e_XmMZBqn",
        "outputId": "6887ea2d-67f6-4a6a-acaf-a19eb65bbcff"
      },
      "execution_count": null,
      "outputs": [
        {
          "output_type": "stream",
          "name": "stdout",
          "text": [
            "[1200, 16, 3200, 8, 16384, 32, 64, 2]\n"
          ]
        }
      ]
    },
    {
      "cell_type": "code",
      "execution_count": null,
      "metadata": {
        "id": "zgDVif_J6qf-"
      },
      "outputs": [],
      "source": [
        "|output"
      ]
    },
    {
      "cell_type": "markdown",
      "metadata": {
        "id": "tAsZqz9uEZN-"
      },
      "source": [
        "# 8.4. Обучаем нашу сверточную сеть"
      ]
    },
    {
      "cell_type": "code",
      "execution_count": null,
      "metadata": {
        "id": "q31z0wBPEHuL"
      },
      "outputs": [],
      "source": [
        "import datetime\n",
        "\n",
        "def training_loop(n_epochs, optimizer, model, loss_fn, train_loader):\n",
        "    for epoch in range(1, n_epochs+1):\n",
        "        loss_train = 0.0\n",
        "        for imgs, labels in train_loader:\n",
        "            outputs =  model(imgs)\n",
        "            loss = loss_fn(outputs, labels)\n",
        "            optimizer.zero_grad()\n",
        "            loss.backward()\n",
        "            optimizer.step()\n",
        "            loss_train+=loss.item()\n",
        "\n",
        "        if epoch == 1 or epoch % 10 == 0:\n",
        "           print('{} Epoch {}, Training loss {}'. format(\n",
        "                 datetime.datetime.now(), epoch,\n",
        "                 loss_train / len(train_loader)))"
      ]
    },
    {
      "cell_type": "code",
      "execution_count": null,
      "metadata": {
        "id": "KK59i0jzHy1Q"
      },
      "outputs": [],
      "source": [
        "# train_loader = torch.utils.data.DataLoader(cifar2, batch_size=64, shuffle=True)\n",
        "# model = Net()\n",
        "# optimizer = optim.SGD(model.parameters(), lr=1e-2)\n",
        "# loss_fn = nn.CrossEntropyLoss()\n",
        "\n",
        "# training_loop(\n",
        "#     n_epochs = 100,\n",
        "#     optimizer = optimizer,\n",
        "#     model = model,\n",
        "#     loss_fn = loss_fn,\n",
        "#     train_loader = train_loader\n",
        "# )"
      ]
    },
    {
      "cell_type": "markdown",
      "metadata": {
        "id": "79j1nhj1SZA_"
      },
      "source": [
        "# 8.4.1. Измерение степени безошибочности"
      ]
    },
    {
      "cell_type": "code",
      "execution_count": null,
      "metadata": {
        "id": "9kcH_wBOIj1u"
      },
      "outputs": [],
      "source": [
        "train_loader = torch.utils.data.DataLoader(cifar2, batch_size=64, shuffle=False)\n",
        "val_loader = torch.utils.data.DataLoader(cifar2_val, batch_size=64, shuffle=False)"
      ]
    },
    {
      "cell_type": "code",
      "execution_count": null,
      "metadata": {
        "id": "BkuFIJJTTyP3"
      },
      "outputs": [],
      "source": [
        "def validate(model, train_loader, val_loader):\n",
        "    for name, loader in [('train', train_loader), ('val', val_loader)]:\n",
        "        correct = 0\n",
        "        total = 0\n",
        "\n",
        "        with torch.no_grad():\n",
        "            for imgs, labels in loader:\n",
        "                outputs = model(imgs)\n",
        "                _, predicted = torch.max(outputs, dim=1)\n",
        "                total += labels.shape[0]\n",
        "                correct += int((predicted == labels).sum())\n",
        "\n",
        "            print(\"Accuracy {}: {:.2f}\".format(name, correct / total))\n",
        "# validate(model, train_loader, val_loader)"
      ]
    },
    {
      "cell_type": "markdown",
      "metadata": {
        "id": "ytjnsQCLZDhb"
      },
      "source": [
        "# 8.4.2. Сохранение и загрузка модели\n",
        "Поскольку мы пока что удовлетворены результатами работы модели, не помешает ее сохранить, правда? Сделать это очень просто. Давайте сохраним\n",
        "модель в файл:"
      ]
    },
    {
      "cell_type": "code",
      "execution_count": null,
      "metadata": {
        "id": "Ji40zBSpWilD"
      },
      "outputs": [],
      "source": [
        "# torch.save(model.state_dict(), data_path + 'birds_vs_airplanes.pt')"
      ]
    },
    {
      "cell_type": "markdown",
      "metadata": {
        "id": "ikkYVNNDahL4"
      },
      "source": [
        "Файл birds_vs_airplanes.pt теперь содержит все параметры объекта model:\n",
        "весовые коэффициенты и смещения для двух модулей свертки и двух линейных\n",
        "модулей. Да, никакой структуры, только весовые коэффициенты. Это значит,\n",
        "что при развертывании модели для нашего друга в реальных условиях нам понадобится описание класса model, а еще нужно будет создать экземпляр и затем\n",
        "загрузить в него обратно параметры:"
      ]
    },
    {
      "cell_type": "code",
      "execution_count": null,
      "metadata": {
        "id": "BGpcMyi5Ze6m"
      },
      "outputs": [],
      "source": [
        "# loaded_model = Net() # Нужно убедиться, что мы не меняем определение сети между сохранением и последующей загрузкой состояния модели\n",
        "# loaded_model.load_state_dict(torch.load(data_path + 'birds_vs_airplanes.pt'))"
      ]
    },
    {
      "cell_type": "markdown",
      "metadata": {
        "id": "IZj_6MIja2SR"
      },
      "source": [
        "# 8.4.3. Обучение на GPU"
      ]
    },
    {
      "cell_type": "code",
      "execution_count": null,
      "metadata": {
        "id": "FSSSstJxaeqm"
      },
      "outputs": [],
      "source": [
        "device = (torch.device('cuda') if torch.cuda.is_available()\n",
        "          else torch.device('cpu'))\n",
        "print(f\"Training on device {device}.\")"
      ]
    },
    {
      "cell_type": "code",
      "execution_count": null,
      "metadata": {
        "id": "8wttSuJOdO1J"
      },
      "outputs": [],
      "source": [
        "import datetime\n",
        "\n",
        "def training_loop(n_epochs, optimizer, model, loss_fn, train_loader):\n",
        "    for epoch in range(1, n_epochs+1):\n",
        "        loss_train = 0.0\n",
        "        for imgs, labels in train_loader:\n",
        "            imgs = imgs.to(device=device)\n",
        "            labels = labels.to(device=device)\n",
        "            outputs = model(imgs)\n",
        "            loss = loss_fn(outputs, labels)\n",
        "\n",
        "            optimizer.zero_grad()\n",
        "            loss.backward()\n",
        "            optimizer.step()\n",
        "\n",
        "            loss_train += loss.item()\n",
        "\n",
        "        if epoch == 1 or epoch % 10 == 0:\n",
        "           print('{} Epoch {}, Training Loss {}'.format(\n",
        "              datetime.datetime.now(), epoch,\n",
        "              loss_train / len(train_loader)))"
      ]
    },
    {
      "cell_type": "code",
      "execution_count": null,
      "metadata": {
        "id": "CFIvhKN3iCKn"
      },
      "outputs": [],
      "source": [
        "train_loader = torch.utils.data.DataLoader(cifar2, batch_size=64, shuffle=True)\n",
        "model = Net().to(device=device)\n",
        "optimizer = optim.SGD(model.parameters(),  lr=1e-2)\n",
        "loss_fn = nn.CrossEntropyLoss()\n",
        "training_loop(\n",
        "    n_epochs = 100,\n",
        "    optimizer = optimizer,\n",
        "    model = model,\n",
        "    loss_fn = loss_fn,\n",
        "    train_loader = train_loader,\n",
        ")"
      ]
    },
    {
      "cell_type": "markdown",
      "metadata": {
        "id": "SW7lQmAZt04B"
      },
      "source": [
        "Небольшая сложность при загрузке весовых коэффициентов сети: PyTorch попытается загрузить веса на то же устройство, с которого они были сохранены,\n",
        "то есть весовые коэффициенты с GPU будут восстановлены на GPU. Поскольку\n",
        "неизвестно, нужно ли нам то же устройство, существует два варианта: перенести\n",
        "сеть на CPU перед сохранением или вернуть ее обратно после восстановления.\n",
        "Более лаконичным вариантом будет потребовать от PyTorch переопределить\n",
        "информацию об устройстве при загрузке весовых коэффициентов. Сделать\n",
        "это можно посредством передачи методу torch.load ключевого аргумента\n",
        "map_location:"
      ]
    },
    {
      "cell_type": "code",
      "execution_count": null,
      "metadata": {
        "id": "s2PuEEvlnCMo"
      },
      "outputs": [],
      "source": [
        "loaded_model = Net().to(device=device)\n",
        "loaded_model.load_state_dict(torch.load(data_path + 'birds_vs_airplanes.pt', map_location=device))"
      ]
    },
    {
      "cell_type": "markdown",
      "metadata": {
        "id": "KI9IH41JMtNM"
      },
      "source": [
        "# 8.5.1. Расширение объема памяти: ширина"
      ]
    },
    {
      "cell_type": "markdown",
      "metadata": {
        "id": "Sl42kb09MtNM"
      },
      "source": [
        "Чтобы не нужно было жестко «зашивать» числа в описании модели, удобно\n",
        "передавать параметр init и параметризовать ширину модели, не забывая также\n",
        "добавить параметр в вызов view в функции forward:"
      ]
    },
    {
      "cell_type": "code",
      "execution_count": null,
      "metadata": {
        "id": "-XQka-ZPtcTG"
      },
      "outputs": [],
      "source": [
        "class NetWidth(nn.Module):\n",
        "    def __init__(self, n_chans1=32):\n",
        "        super().__init__()\n",
        "        self.conv1 = nn.Conv2d(3, n_chans1, kernel_size=3, padding=1)\n",
        "        self.conv2 = nn.Conv2d(n_chans1, n_chans1 // 2, kernel_size=3, padding=1)\n",
        "        self.fc1 = nn.Linear(8 * 8 * n_chans1 // 2, 32)\n",
        "        self.fc2 = nn.Linear(32, 2)\n",
        "\n",
        "    def forward(self, x):\n",
        "        out = F.max_pool2d(torch.tanh(self.conv1(x), 2))\n",
        "        out = F.max_pool2d(torch.tanh(self.conv2(out), 2))\n",
        "        out = out.view(-1, 8 * 8 * self.n_chans1 // 2)\n",
        "        out = self.fc2(out)\n",
        "        return out"
      ]
    },
    {
      "cell_type": "code",
      "execution_count": null,
      "metadata": {
        "id": "NgUPPZW_MtNM"
      },
      "outputs": [],
      "source": [
        "model = NetWidth()"
      ]
    },
    {
      "cell_type": "markdown",
      "metadata": {
        "id": "_xg_wG2OMtNM"
      },
      "source": [
        "Количество каналов и признаков для каждого слоя непосредственно связано\n",
        "с числом параметров модели: при прочих равных условиях они повышают\n",
        "разрешающие возможности (capacity) модели. Можно посмотреть, как мы уже\n",
        "делали ранее, сколько параметров у нашей модели теперь:"
      ]
    },
    {
      "cell_type": "code",
      "execution_count": null,
      "metadata": {
        "id": "nk4POU8fMtNN"
      },
      "outputs": [],
      "source": [
        "sum(p.numel() for p in model.parameters())"
      ]
    },
    {
      "cell_type": "markdown",
      "metadata": {
        "id": "VVJoSa_lMtNN"
      },
      "source": [
        "Чем больше разрешающие возможности модели, тем с большей степенью изменчивости входных сигналов сможет справиться модель, но в то же время\n",
        "тем выше вероятность переобучения, поскольку модель сможет воспользоваться дополнительными параметрами для запоминания несущественных\n",
        "аспектов входных данных. Мы уже обсуждали способы борьбы с переобучением, лучший из которых — увеличение размера выборки, или, в отсутствие\n",
        "новых данных, дополнение данных посредством искусственных изменений\n",
        "уже существующих."
      ]
    },
    {
      "cell_type": "markdown",
      "metadata": {
        "id": "0lJ0v0zxMtNN"
      },
      "source": [
        "# 8.5.2. Улучшаем сходимость модели и ее способности к обобщению: регуляризация"
      ]
    },
    {
      "cell_type": "markdown",
      "metadata": {
        "id": "HXEg3IrVMtNN"
      },
      "source": [
        "В PyTorch можно довольно легко реализовать регуляризацию путем добавления\n",
        "коэффициента в формулу функции потерь. После вычисления функции потерь,\n",
        "какая бы она ни была, можно пройти в цикле по параметрам модели, суммируя\n",
        "их квадраты (для L2) или abs (для L1), и произвести обратное распространение\n",
        "ошибки:"
      ]
    },
    {
      "cell_type": "code",
      "execution_count": null,
      "metadata": {
        "id": "EgFJNpodMtNN"
      },
      "outputs": [],
      "source": [
        "def training_loop_l2reg(n_epochs, optimizer, model, loss_fn, train_loader):\n",
        "    for epoch in range(1, n_epochs+1):\n",
        "        loss_train = 0.0\n",
        "        for imgs, labels in train_loader:\n",
        "            imgs = imgs.to(device=device)\n",
        "            labels = labels.to(device=device)\n",
        "            outputs = model(imgs)\n",
        "            loss = loss_fn(outputs, labels)\n",
        "\n",
        "            l2_lambda = 0.001\n",
        "            l2_norm = sum(p.pow(2.0).sum() for p in model.parameters())\n",
        "            loss = loss + l2_lambda * l2_norm\n",
        "\n",
        "            optimizer.zero_grad()\n",
        "            loss.backward()\n",
        "            optimizer.step()\n",
        "\n",
        "            loss_train+=loss.item()\n",
        "        if epoch == 1 or epoch % 10 == 0:\n",
        "            print('{} Epoch {}, Training loss {}'.format(\n",
        "                datetime.datetime.now(), epoch, loss_train / len(train_loader)))"
      ]
    },
    {
      "cell_type": "markdown",
      "metadata": {
        "id": "gHpErRM_MtNO"
      },
      "source": [
        "Впрочем, в оптимизаторе SGD в PyTorch уже есть параметр weight_decay, соответствующий 2 * lambda, который напрямую осуществляет затухание весов\n",
        "во время их обновления, как описывалось выше. Он полностью эквивалентен\n",
        "прибавлению L2-нормы весовых коэффициентов к функции потерь без необходимости накопления в функции потерь и вовлечения автоматического\n",
        "вычисления градиентов."
      ]
    },
    {
      "cell_type": "markdown",
      "metadata": {
        "id": "FfnE364nMtNO"
      },
      "source": [
        "# Не слишком полагаемся на отдельные входные сигналы: дропаут"
      ]
    },
    {
      "cell_type": "markdown",
      "metadata": {
        "id": "LeqpaQVHMtNO"
      },
      "source": [
        "Фактически в результате этой процедуры на каждой итерации формируются\n",
        "слегка отличающиеся модели с различными топологиями нейронов, уменьшая\n",
        "шансы нейронов модели скоординироваться в процессе запоминания, что происходит при переобучении. Можно также считать, что дропаут вносит возмущения\n",
        "в генерируемые моделью признаки, производя эффект, схожий с дополнением\n",
        "данных, но на этот раз по всей сети.\n",
        "В PyTorch можно реализовать дропаут в модели с помощью добавления модуля\n",
        "nn.Dropoutмежду нелинейной функцией активации и линейным или сверточным\n",
        "модулем последующего слоя. В качестве аргумента необходимо указать вероятность, с которой будут обнуляться входные сигналы. Для сверток необходимо\n",
        "использовать специализированные слои nn.Dropout2d или nn.Dropout3d, обнуляющие целые каналы входных сигналов:"
      ]
    },
    {
      "cell_type": "code",
      "execution_count": null,
      "metadata": {
        "id": "kSF0Bc_HMtNO"
      },
      "outputs": [],
      "source": [
        "class NetDropout(nn.Module):\n",
        "    def __init__(self, n_chans1=32):\n",
        "        super().__init__()\n",
        "        self.conv1 = nn.conv2d(3, n_chans1, kernel_size=3, padding=1)\n",
        "        self.conv1_dropout = nn.Dropout2d(p=0.4)\n",
        "        self.conv2 = nn.conv2d(n_chans1, n_chans1 // 2, kernel_size=3, padding=1)\n",
        "        self.conv2_dropout = nn.Dropout(p=0.4)\n",
        "        self.fc1 = nn.Linear(8*8*n_chans1 // 2, 32)\n",
        "        self.fc2 = nn.Linear(32, 2)\n",
        "\n",
        "    def forward(self, x):\n",
        "        out = F.max_pool2d(torch.tanh(self.conv1(x)), 2)\n",
        "        out = self.conv1_dropout(out)\n",
        "        out = F.max_pool2d(torch.tanh(self.conv2(out)), 2)\n",
        "        out = self.conv2_dropout(out)\n",
        "        out = out.view(-1, 8 * 8 * n_chans1 // 2)\n",
        "        out = torch.tanh(self.fc1(out))\n",
        "        out = self.fc2(out)\n",
        "        return out"
      ]
    },
    {
      "cell_type": "markdown",
      "metadata": {
        "id": "CMShH8_oMtNO"
      },
      "source": [
        "В этом фрагменте текста обсуждается важный момент относительно использования модуля Dropout в PyTorch во время обучения и во время использования обученной модели в реальных условиях.\n",
        "\n",
        "1. **Во время обучения:**\n",
        "   - Во время обучения, когда модель подвергается обратному распространению ошибки и обновлению весов, Dropout применяется, и некоторые нейроны \"выключаются\" с вероятностью, указанной при создании слоя Dropout (например, `nn.Dropout(p=0.5)` означает 50% вероятность выключения).\n",
        "\n",
        "2. **Во время использования обученной модели:**\n",
        "   - Когда вы используете обученную модель для предсказания новых данных, вы обычно не хотите применять Dropout, так как это может привести к ненадежным и непредсказуемым результатам. В этот момент вероятность выключения должна быть равна нулю.\n",
        "   - PyTorch предоставляет методы `model.train()` и `model.eval()`, которые переключают модель между режимами обучения и оценки. Когда вы вызываете `model.train()`, модель находится в режиме обучения, и Dropout применяется. Когда вы вызываете `model.eval()`, модель переключается в режим оценки, и Dropout отключается.\n",
        "\n",
        "Пример:\n",
        "\n",
        "```python\n",
        "model = MyModelWithDropout()\n",
        "model.train()  # Переключаем модель в режим обучения\n",
        "# ... (обучение модели)\n",
        "model.eval()   # Переключаем модель в режим оценки перед использованием\n",
        "# ... (использование обученной модели для предсказаний)\n",
        "```\n",
        "\n",
        "Такой подход позволяет управлять поведением Dropout в различных фазах работы сети: во время обучения он применяется для регуляризации, а во время использования обученной модели - отключается для стабильных предсказаний."
      ]
    },
    {
      "cell_type": "markdown",
      "metadata": {
        "id": "XbEg8FV3MtNO"
      },
      "source": [
        "# Держим активацию под контролем: нормализация по батчам"
      ]
    },
    {
      "cell_type": "markdown",
      "metadata": {
        "id": "dX3OQ1X3MtNP"
      },
      "source": [
        "На практике нормализация по батчам сдвигает и масштабирует промежуточные входные сигналы на основе среднего значения и стандартного отклонения,\n",
        "вычисленных в этой промежуточной точке по примерам данных мини-батча.\n",
        "Эффект от регуляризации основан на том, что отдельные примеры данных\n",
        "и следующие далее по конвейеру функции активации всегда рассматриваются\n",
        "моделью как сдвинутые и нормализованные, в зависимости от статистических\n",
        "показателей выделенного случайным образом мини-батча. Что само по себе\n",
        "является разновидностью систематического (principled) дополнения данных.\n",
        "Авторы статьи высказывают мнение, что нормализация по батчам исключает\n",
        "или по крайней мере сокращает необходимость в дропауте."
      ]
    },
    {
      "cell_type": "markdown",
      "metadata": {
        "id": "f51-4IDwMtNP"
      },
      "source": [
        "Нормализация по батчам в PyTorch производится с помощью модулей\n",
        "nn.BatchNorm1D, nn.BatchNorm2d и nn.BatchNorm3d, в зависимости от размерности входных данных. А поскольку цель нормализации по батчам — масштабировать входные сигналы функций активации, логично будет производить ее\n",
        "после линейного преобразования (свертки в данном случае) и активации, как\n",
        "показано здесь:"
      ]
    },
    {
      "cell_type": "code",
      "execution_count": null,
      "metadata": {
        "id": "TbuoGRfgMtNP"
      },
      "outputs": [],
      "source": [
        "class NetBatchNorm(nn.Module):\n",
        "    def __init__(self, n_chans1=32):\n",
        "        super().__init__()\n",
        "        self.n_chans1 = n_chans1\n",
        "        self.conv1 = nn.Conv2d(3, n_chans1, kernel_size=3, padding=1)\n",
        "        self.conv1_batchnorm = nn.BatchNorm2d(num_features=n_chans1)\n",
        "        self.conv2 = nn.Conv2d(n_chans1, n_chans1 // 2, kernel_size=3, padding=1)\n",
        "        self.conv2_batchnorm = nn.BatchNorm2d(num_features=n_chans1)\n",
        "        self.fc1 = nn.Linear(8 * 8 * n_chans1 // 2, 32)\n",
        "        self.fc2 = nn.Linear(32, 2)\n",
        "\n",
        "    def forward(self, x):\n",
        "        out = self.conv1_batchnorm(self.conv1(x))\n",
        "        out = F.max_pool2d(torch.tanh(out), 2)\n",
        "        out = self.conv2_batchnorm(self.conv2(out))\n",
        "        out = F.max_pool2d(torch.tanh(out), 2)\n",
        "        out = out.view(-1, 8 * 8 * n_chans1 // 2)\n",
        "        out = torch.tanh(self.fc1(out))\n",
        "        out = self.fc2(out)\n",
        "        return out\n"
      ]
    },
    {
      "cell_type": "markdown",
      "metadata": {
        "id": "SZe17H65MtNP"
      },
      "source": [
        "# Обходные связи"
      ]
    },
    {
      "cell_type": "markdown",
      "metadata": {
        "id": "6MteDoM4MtNP"
      },
      "source": [
        "Обходные связи означают просто добавление входного сигнала какого-либо слоя\n",
        "к выходному сигналу одного из блоков слоев. Именно так они и реализуются\n",
        "в PyTorch. Добавим в нашу простую сверточную модель еще один слой и для разнообразия воспользуемся функцией активации ReLU. Наш несложный модуль\n",
        "с дополнительным слоем выглядит следующим образом:"
      ]
    },
    {
      "cell_type": "code",
      "execution_count": null,
      "metadata": {
        "id": "L2vF2PhVMtNP"
      },
      "outputs": [],
      "source": [
        "class NetRes(nn.Module):\n",
        "    def __init__(self, n_chans1=32):\n",
        "        super().__item__()\n",
        "        self.n_chans1 = n_chans1\n",
        "        self.conv1 = nn.Conv2d(3, n_chans1, kernel_size=3, padding=1)\n",
        "        self.conv2 = nn.Conv2d(n_chans1, n_chans1 // 2, kernel_size=3, padding=1)\n",
        "        self.conv3 = nn.Conv2d(n_chans1 // 2, n_chans1 // 2, kernel_size=3, padding=1)\n",
        "        self.fc1 = nn.Linear(4 * 4 * n_chans1 // 2, 32)\n",
        "        self.fc2 = nn.Linear(32, 2)\n",
        "\n",
        "    def forward(self, x):\n",
        "        out = F.max_pool2d(torch.relu(self.conv1(x)), 2)\n",
        "        out = F.max_pool2d(torch.relu(self.conv2(out)), 2)\n",
        "        out1 = out\n",
        "        out = F.max_pool2d(torch.relu(self.conv3(out)) + out1, 2)\n",
        "        out = out.view(-1, 4 * 4 * self.n_chans1 // 2)\n",
        "        out = torch.relu(self.fc1(out))\n",
        "        out = self.fc2(out)\n",
        "        return out"
      ]
    },
    {
      "cell_type": "markdown",
      "metadata": {
        "id": "bCWHsRGqMtNQ"
      },
      "source": [
        "Другими словами, мы воспользовались выходным сигналом первых функций\n",
        "активации в качестве входных сигналов для последних, помимо стандартного\n",
        "пути прямого распространения. Другое название этого процесса — тождественное отображение (identity mapping)."
      ]
    },
    {
      "cell_type": "markdown",
      "source": [
        "# Создание очень глубоких моделей в PyTorch"
      ],
      "metadata": {
        "id": "371787-KWJek"
      }
    },
    {
      "cell_type": "markdown",
      "source": [
        "Мы говорили о сверточных нейронных сетях более чем из 100 слоев. Как создать\n",
        "подобную сеть в PyTorch и не сойти с ума в процессе? Обычная стратегия: описать стандартный блок, например (Conv2d, ReLU, Conv2d) + блок обходной связи,\n",
        "а затем динамически создавать сеть в цикле for. Взглянем, как это происходит\n",
        "на практике. Мы создадим сеть, приведенную на рис. 8.12.\n",
        "Сначала мы создадим подкласс модуля, единственная задача которого будет состоять в организации вычислений одного блока: одной группы операций свертки,\n",
        "функции активации и обходной связи:"
      ],
      "metadata": {
        "id": "fLxXtF-ZWVgB"
      }
    },
    {
      "cell_type": "code",
      "execution_count": null,
      "metadata": {
        "id": "LxdbMXsQMtNR"
      },
      "outputs": [],
      "source": [
        "class ResBlock(nn.Module):\n",
        "  def __init__(self, n_chans):\n",
        "      super(ResBlock, self).__init__()\n",
        "      self.conv = nn.Conv2d(n_chans, n_chans, kernel_size=3, padding=1, bias=False)\n",
        "      self.batch_norm = nn.BatchNorm2d(num_features=n_chans)\n",
        "      torch.nn.init.kaiming_normal_(self.conv.weight, nonlinearity='relu')\n",
        "      torch.nn.init.constant_(self.batch_norm.weight, 0.5)\n",
        "      torch.nn.init.zeros_(self.batch_norm.bias)\n",
        "\n",
        "  def forward(self, x):\n",
        "      out = self.conv(x)\n",
        "      out = self.batch_norm(out)\n",
        "      out = torch.relu(out)\n",
        "      return out + x"
      ]
    },
    {
      "cell_type": "markdown",
      "source": [
        "Прежде всего, в init мы создаем nn.Sequential со списком экземпляров ResBlock. nn.Sequential гарантирует, что выходной сигнал одного блока будет\n",
        "использован как входной сигнал следующего, а также что все параметры\n",
        "блока видимы Net. Далее мы просто вызываем в функции forward экземпляр\n",
        "nn.Sequential для обхода всех 100 блоков и получения результата:"
      ],
      "metadata": {
        "id": "qozGDys9KQGr"
      }
    },
    {
      "cell_type": "code",
      "source": [
        "class NetResDeep(nn.Module):\n",
        "      def __init__(self, n_chans1=32, n_blocks=10):\n",
        "          super().__init__()\n",
        "          self.n_chans1 = n_chans1\n",
        "          self.conv1 = nn.Conv2d(3, n_chans1, kernel_size=3, padding=1)\n",
        "          self.resblocks = nn.Sequential(*(n_blocks * [ResBlock(n_chans=n_chans1)]))\n",
        "          self.fc1 = nn.Linear(8 * 8 * n_chans1, 32)\n",
        "          self.fc2 = nn.Linear(32, 2)\n",
        "\n",
        "      def forward(self, x):\n",
        "          out = F.max_pool2d(torch.relu(self.conv1(x)), 2)\n",
        "          out = self.resblocks(out)\n",
        "          out = F.max_pool2d(out, 2)\n",
        "          out = out.view(-1, 8 * 8 * self.n_chans1)\n",
        "          out = torch.relu(self.fc1(out))\n",
        "          out = self.fc2(out)\n",
        "          return out"
      ],
      "metadata": {
        "id": "5ks_6QV2TN3l"
      },
      "execution_count": null,
      "outputs": []
    },
    {
      "cell_type": "code",
      "source": [
        "model = NetResDeep().to(device='cuda')\n",
        "optimizer = optim.SGD(model.parameters(),  lr=3e-3)\n",
        "loss_fn = nn.CrossEntropyLoss()\n",
        "training_loop(\n",
        "    n_epochs = 100,\n",
        "    optimizer = optimizer,\n",
        "    model = model,\n",
        "    loss_fn = loss_fn,\n",
        "    train_loader = train_loader,\n",
        ")"
      ],
      "metadata": {
        "id": "5qJ2QKphLFN5"
      },
      "execution_count": null,
      "outputs": []
    },
    {
      "cell_type": "code",
      "source": [
        "def validate(model, train_loader, val_loader):\n",
        "    for name, loader in [('train', train_loader), ('val', val_loader)]:\n",
        "        correct = 0\n",
        "        total = 0\n",
        "\n",
        "        with torch.no_grad():\n",
        "            for imgs, labels in loader:\n",
        "                imgs = imgs.to(device='cuda')\n",
        "                labels = labels.to(device='cuda')\n",
        "                outputs = model(imgs)\n",
        "                _, predicted = torch.max(outputs, dim=1)\n",
        "                total += labels.shape[0]\n",
        "                correct += int((predicted == labels).sum())\n",
        "\n",
        "            print(\"Accuracy {}: {:.2f}\".format(name, correct / total))\n",
        "validate(model, train_loader, val_loader)"
      ],
      "metadata": {
        "id": "l-f3cPleLFXx"
      },
      "execution_count": null,
      "outputs": []
    },
    {
      "cell_type": "markdown",
      "source": [
        "Конечно, давайте разберем каждую из этих модификаций сети:\n",
        "\n",
        "1. **Расширение (Dilation):**\n",
        "   - **Описание:** Расширение используется для увеличения размера поля зрения без увеличения количества параметров. Это достигается введением \"дыр\" (dilation) между фильтрами свертки. Таким образом, увеличивается расстояние между активационными значениями в слое.\n",
        "   - **Применение:** Эффективно для обработки изображений с масштабируемыми структурами.\n",
        "\n",
        "2. **L2-регуляризация:**\n",
        "   - **Описание:** L2-регуляризация добавляет штраф к сумме квадратов весов модели в функции потерь. Это помогает предотвратить переобучение, уменьшая величину весов.\n",
        "   - **Применение:** Используется для борьбы с переобучением, особенно в случаях, когда модель имеет большое количество параметров.\n",
        "\n",
        "3. **Дропаут (Dropout):**\n",
        "   - **Описание:** Дропаут случайным образом \"выключает\" (обнуляет) некоторые нейроны во время обучения с определенной вероятностью. Это помогает сети обучаться более устойчиво и уменьшает вероятность переобучения.\n",
        "   - **Применение:** Эффективен для регуляризации моделей и улучшения их обобщающей способности.\n",
        "\n",
        "4. **Нормализация по батчам (Batch Normalization):**\n",
        "   - **Описание:** Нормализация по батчам добавляет операцию нормализации входных данных к каждому батчу. Это помогает ускорить обучение и улучшить стабильность глубоких нейронных сетей.\n",
        "   - **Применение:** Часто используется для улучшения обучения глубоких сетей, уменьшения зависимости от начальной инициализации весов.\n",
        "\n",
        "5. **Углубление (Skip Connections):**\n",
        "   - **Описание:** Углубление включает прямые связи между слоями, пропуская один или более слоев. Это облегчает обучение глубоких сетей и помогает избежать проблемы исчезающего градиента.\n",
        "   - **Применение:** Очень полезно при построении глубоких нейронных сетей, таких как ResNet.\n",
        "\n",
        "6. **Остаточная (Residual):**\n",
        "   - **Описание:** Архитектура ResNet включает в себя блоки с прямой связью (residual blocks), которые добавляют остаточный (residual) блок к входным данным. Это облегчает обучение глубоких сетей, поскольку остаточный блок может быть легко обучен, не ухудшая производительность.\n",
        "   - **Применение:** Используется для построения глубоких нейронных сетей с большим количеством слоев.\n",
        "\n",
        "7. **Глубокая остаточная (Deep Residual):**\n",
        "   - **Описание:** Глубокая остаточная сеть (Deep Residual Network или ResNet) представляет собой сеть, состоящую из множества блоков, каждый из которых включает остаточные связи. Это позволяет строить глубокие сети, состоящие из сотен и тысяч слоев.\n",
        "   - **Применение:** Применяется для решения сложных задач в компьютерном зрении и других областях, где требуется глубокое представление данных.\n",
        "\n",
        "Каждая из этих модификаций имеет свои преимущества и применяется в зависимости от конкретной задачи и характеристик данных."
      ],
      "metadata": {
        "id": "YtRcwAA8cbbZ"
      }
    },
    {
      "cell_type": "markdown",
      "source": [
        "# HomeWork"
      ],
      "metadata": {
        "id": "c_BguIH-UADw"
      }
    },
    {
      "cell_type": "code",
      "source": [
        "class Net(nn.Module):\n",
        "      def __init__(self):\n",
        "          super().__init__()\n",
        "          self.conv1 = nn.Conv2d(3, 16, kernel_size=3, padding=1)\n",
        "          self.conv2 = nn.Conv2d(16, 8, kernel_size=3, padding=1)\n",
        "          self.fc1 = nn.Linear(8 * 8 * 8, 32)\n",
        "          self.fc2 = nn.Linear(32, 2)\n",
        "\n",
        "      def forward(self, x):\n",
        "          out = F.max_pool2d(torch.tanh(self.conv1(x)), 2)\n",
        "          out = F.max_pool2d(torch.tanh(self.conv2(out)), 2)\n",
        "          out = out.view(-1, 8 * 8 * 8)\n",
        "          out = torch.tanh(self.fc1(out))\n",
        "          out = self.fc2(out)\n",
        "          return out\n"
      ],
      "metadata": {
        "id": "z7LAVtzTMEmy"
      },
      "execution_count": null,
      "outputs": []
    },
    {
      "cell_type": "code",
      "source": [
        "train_loader = torch.utils.data.DataLoader(cifar2, batch_size=64, shuffle=True)\n",
        "model = Net().to(device='cuda')\n",
        "optimizer = optim.SGD(model.parameters(),  lr=1e-2)\n",
        "loss_fn = nn.CrossEntropyLoss()\n",
        "training_loop(\n",
        "    n_epochs = 100,\n",
        "    optimizer = optimizer,\n",
        "    model = model,\n",
        "    loss_fn = loss_fn,\n",
        "    train_loader = train_loader,\n",
        ")"
      ],
      "metadata": {
        "id": "_l9iWviRW1VO",
        "colab": {
          "base_uri": "https://localhost:8080/"
        },
        "outputId": "6750a078-f1d3-4bc8-a8df-6637bc95c337"
      },
      "execution_count": null,
      "outputs": [
        {
          "output_type": "stream",
          "name": "stdout",
          "text": [
            "2023-11-22 14:28:08.402980 Epoch 1, Training Loss 0.5755076928503194\n",
            "2023-11-22 14:28:11.637587 Epoch 10, Training Loss 0.33439941305643434\n",
            "2023-11-22 14:28:15.178589 Epoch 20, Training Loss 0.29113798583768735\n",
            "2023-11-22 14:28:20.214784 Epoch 30, Training Loss 0.26292412542993093\n",
            "2023-11-22 14:28:26.151981 Epoch 40, Training Loss 0.24106689006279988\n",
            "2023-11-22 14:28:29.749483 Epoch 50, Training Loss 0.22164279507223966\n",
            "2023-11-22 14:28:33.317231 Epoch 60, Training Loss 0.20686481333082649\n",
            "2023-11-22 14:28:37.641516 Epoch 70, Training Loss 0.1919978558542622\n",
            "2023-11-22 14:28:41.490894 Epoch 80, Training Loss 0.17757997509970028\n",
            "2023-11-22 14:28:45.075304 Epoch 90, Training Loss 0.1629691051592113\n",
            "2023-11-22 14:28:48.684943 Epoch 100, Training Loss 0.1488083209486524\n"
          ]
        }
      ]
    },
    {
      "cell_type": "code",
      "source": [
        "import cv2"
      ],
      "metadata": {
        "id": "sRQrRrFsdkoW"
      },
      "execution_count": null,
      "outputs": []
    },
    {
      "cell_type": "code",
      "source": [
        "img = cv2.imread(\"/content/edit_plain.jpg\")\n",
        "transformer = transforms.Compose([\n",
        "    transforms.ToTensor(),\n",
        "    transforms.Normalize(\n",
        "      (0.4914, 0.4822, 0.4465),\n",
        "      (0.2470, 0.2435, 0.2616)\n",
        "    )]\n",
        ")\n",
        "img_t = transformer(img)"
      ],
      "metadata": {
        "id": "M344qEaGd0Ns"
      },
      "execution_count": null,
      "outputs": []
    },
    {
      "cell_type": "code",
      "source": [
        "img_t.shape"
      ],
      "metadata": {
        "colab": {
          "base_uri": "https://localhost:8080/"
        },
        "id": "JSqg3hIJeea8",
        "outputId": "70640dce-a445-4c15-8b61-9af5315b922f"
      },
      "execution_count": null,
      "outputs": [
        {
          "output_type": "execute_result",
          "data": {
            "text/plain": [
              "torch.Size([3, 32, 32])"
            ]
          },
          "metadata": {},
          "execution_count": 137
        }
      ]
    },
    {
      "cell_type": "code",
      "source": [
        "plt.imshow(img_t.permute(1, 2, 0), cmap='gray')"
      ],
      "metadata": {
        "colab": {
          "base_uri": "https://localhost:8080/",
          "height": 467
        },
        "id": "6FQGZImfj6Hd",
        "outputId": "7e81a819-0caa-428c-9cb5-de9c5c905c3c"
      },
      "execution_count": null,
      "outputs": [
        {
          "output_type": "stream",
          "name": "stderr",
          "text": [
            "WARNING:matplotlib.image:Clipping input data to the valid range for imshow with RGB data ([0..1] for floats or [0..255] for integers).\n"
          ]
        },
        {
          "output_type": "execute_result",
          "data": {
            "text/plain": [
              "<matplotlib.image.AxesImage at 0x7f6b46bb49a0>"
            ]
          },
          "metadata": {},
          "execution_count": 140
        },
        {
          "output_type": "display_data",
          "data": {
            "text/plain": [
              "<Figure size 640x480 with 1 Axes>"
            ],
            "image/png": "[encoded data removed]"
          },
          "metadata": {}
        }
      ]
    },
    {
      "cell_type": "code",
      "source": [
        "with torch.no_grad():\n",
        "    img_t = img_t.to(device='cuda')\n",
        "    output = model(img_t)\n",
        "    _, pred = torch.max(output, dim=1)\n",
        "print(pred)"
      ],
      "metadata": {
        "id": "P0rbTR4pW43m",
        "colab": {
          "base_uri": "https://localhost:8080/"
        },
        "outputId": "f3e5da28-9305-493a-a5af-a79694cbae1d"
      },
      "execution_count": null,
      "outputs": [
        {
          "output_type": "stream",
          "name": "stdout",
          "text": [
            "tensor([1], device='cuda:0')\n"
          ]
        }
      ]
    },
    {
      "cell_type": "code",
      "source": [
        "img2 = cv2.imread('/content/1613217694_121-p-fon-sinyaya-pti.jpg')\n",
        "img2_t = transformer(img2)"
      ],
      "metadata": {
        "id": "hs0inp6belFm"
      },
      "execution_count": null,
      "outputs": []
    },
    {
      "cell_type": "code",
      "source": [
        "with torch.no_grad():\n",
        "    img2_t = img2_t.to(device='cuda')\n",
        "    output = model(img2_t)\n",
        "    _, pred = torch.max(output, dim=1)\n",
        "print(pred)"
      ],
      "metadata": {
        "colab": {
          "base_uri": "https://localhost:8080/"
        },
        "id": "AZGVo-eagH1V",
        "outputId": "1aff064a-3c5a-4a9e-b175-438510fecef1"
      },
      "execution_count": null,
      "outputs": [
        {
          "output_type": "stream",
          "name": "stdout",
          "text": [
            "tensor([1], device='cuda:0')\n"
          ]
        }
      ]
    }
  ],
  "metadata": {
    "accelerator": "GPU",
    "colab": {
      "gpuType": "T4",
      "provenance": []
    },
    "kernelspec": {
      "display_name": "Python 3",
      "name": "python3"
    },
    "language_info": {
      "codemirror_mode": {
        "name": "ipython",
        "version": 3
      },
      "file_extension": ".py",
      "mimetype": "text/x-python",
      "name": "python",
      "nbconvert_exporter": "python",
      "pygments_lexer": "ipython3",
      "version": "3.11.5"
    }
  },
  "nbformat": 4,
  "nbformat_minor": 0
}