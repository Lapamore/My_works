{
  "cells": [
    {
      "cell_type": "code",
      "execution_count": null,
      "metadata": {
        "id": "R5jr73dJgqPN"
      },
      "outputs": [],
      "source": [
        "from google.colab import drive\n",
        "drive.mount('/content/drive')"
      ]
    },
    {
      "cell_type": "code",
      "execution_count": 2,
      "metadata": {
        "id": "hZ6g12IS0jDo"
      },
      "outputs": [],
      "source": [
        "import torch\n",
        "import torch.nn as nn\n",
        "from torchvision import transforms, datasets\n",
        "import matplotlib.pyplot as plt\n",
        "import torch.optim as optim"
      ]
    },
    {
      "cell_type": "code",
      "execution_count": 3,
      "metadata": {
        "id": "oh2bFA9A_w91"
      },
      "outputs": [
        {
          "name": "stdout",
          "output_type": "stream",
          "text": [
            "Downloading https://www.cs.toronto.edu/~kriz/cifar-10-python.tar.gz to data/cifar-10-python.tar.gz\n"
          ]
        },
        {
          "name": "stderr",
          "output_type": "stream",
          "text": [
            "100.0%\n"
          ]
        },
        {
          "name": "stdout",
          "output_type": "stream",
          "text": [
            "Extracting data/cifar-10-python.tar.gz to data/\n",
            "Files already downloaded and verified\n"
          ]
        }
      ],
      "source": [
        "data_path = \"data/\"\n",
        "cifar10 = datasets.CIFAR10(data_path, train=True, download=True,\n",
        "                           transform=transforms.Compose([\n",
        "                              transforms.ToTensor(),\n",
        "                              transforms.Normalize(\n",
        "                                  (0.4914, 0.4822, 0.4465),\n",
        "                                  (0.2470, 0.2435, 0.2616)\n",
        "                              )\n",
        "                           ]))\n",
        "\n",
        "cifar10_val = datasets.CIFAR10(data_path, train=False, download=True,\n",
        "                           transform=transforms.Compose([\n",
        "                              transforms.ToTensor(),\n",
        "                              transforms.Normalize(\n",
        "                                  (0.4914, 0.4822, 0.4465),\n",
        "                                  (0.2470, 0.2435, 0.2616)\n",
        "                              )\n",
        "                           ]))"
      ]
    },
    {
      "cell_type": "code",
      "execution_count": 4,
      "metadata": {
        "id": "rK-_ltijC4PB"
      },
      "outputs": [],
      "source": [
        "label_map = {0: 0, 2: 1}\n",
        "class_names = ['airplane', 'bird']\n",
        "cifar2 = [(img, label_map[label]) for img, label in cifar10 if label in [0, 2]]\n",
        "cifar2_val = [(img, label_map[label]) for img, label in cifar10_val if label in [0, 2]]"
      ]
    },
    {
      "cell_type": "code",
      "execution_count": 5,
      "metadata": {
        "id": "9tbRHtsv02Dc"
      },
      "outputs": [],
      "source": [
        "conv = nn.Conv2d(3, 16, kernel_size=3) # Вместо сокращенной формы записи kernel_size=3 мы можем передать кортеж, показанный в выведенных результатах: kernel_size=(3, 3)"
      ]
    },
    {
      "cell_type": "code",
      "execution_count": 6,
      "metadata": {
        "id": "Bq0HwGfo91Nu"
      },
      "outputs": [
        {
          "data": {
            "text/plain": [
              "(torch.Size([1, 3, 32, 32]), torch.Size([1, 16, 30, 30]))"
            ]
          },
          "execution_count": 6,
          "metadata": {},
          "output_type": "execute_result"
        }
      ],
      "source": [
        "img, _ = cifar2[0]\n",
        "output = conv(img.unsqueeze(0))\n",
        "img.unsqueeze(0).shape, output.shape"
      ]
    },
    {
      "cell_type": "code",
      "execution_count": 7,
      "metadata": {
        "id": "GkwlgnF0Bgi8"
      },
      "outputs": [
        {
          "data": {
            "image/png": "[encoded data removed]",
            "text/plain": [
              "<Figure size 640x480 with 1 Axes>"
            ]
          },
          "metadata": {},
          "output_type": "display_data"
        }
      ],
      "source": [
        "plt.imshow(output[0,0].detach(), cmap='gray')\n",
        "plt.show()"
      ]
    },
    {
      "cell_type": "markdown",
      "metadata": {
        "id": "bki-jkanNpGx"
      },
      "source": [
        "# 8.2.1. Дополнение нулями по краям"
      ]
    },
    {
      "cell_type": "markdown",
      "metadata": {
        "id": "BaVCugC_NwyM"
      },
      "source": [
        "Применение\n",
        "сверточного ядра в виде взвешенной суммы пикселей в окрестности размера\n",
        "3 × 3 требует наличия соседних пикселей во всех направлениях. А в точке i00\n",
        "соседние пиксели есть только справа и снизу. По умолчанию сверточное ядро\n",
        "в PyTorch проходит по входному изображению, получая ширина - ширина_ядра + 1\n",
        "по горизонтали и вертикали. В случае ядер нечетного размера в результате получаются изображения, которые меньше с каждой стороны на половину ширины\n",
        "сверточного ядра (в нашем случае 3 // 2 = 1). Поэтому нам и не хватает по два\n",
        "пикселя в каждом измерении.\n",
        "Впрочем, PyTorch позволяет дополнять нулями (padding) изображения, путем\n",
        "добавления границ с помощью фиктивных (ghost) пикселей с нулевымзначением."
      ]
    },
    {
      "cell_type": "markdown",
      "metadata": {
        "id": "0MbVi75wODZ5"
      },
      "source": [
        "В нашем случае параметр padding=1 при kernel_size=3 означает появление\n",
        "у i00 набора дополнительных соседей сверху и слева, что позволяет вычислять\n",
        "выходной сигнал свертки даже в углу исходного изображения1\n",
        ". В итоге размер\n",
        "выходного изображения оказывается точно таким же, как и входного:"
      ]
    },
    {
      "cell_type": "code",
      "execution_count": 8,
      "metadata": {
        "id": "utojNenqDlwN"
      },
      "outputs": [
        {
          "data": {
            "text/plain": [
              "torch.Size([1, 1, 32, 32])"
            ]
          },
          "execution_count": 8,
          "metadata": {},
          "output_type": "execute_result"
        }
      ],
      "source": [
        "conv = nn.Conv2d(3, 1, padding=1, kernel_size=3)\n",
        "output = conv(img.unsqueeze(0))\n",
        "output.shape"
      ]
    },
    {
      "cell_type": "markdown",
      "metadata": {
        "id": "Ou7_ZlScOn_S"
      },
      "source": [
        "Для ядер четного размера пришлось бы дополнять другим количеством соседей\n",
        "слева и справа (а также сверху и снизу). PyTorch не предоставляет подобной возможности в самой свертке, но дает возможность решить эту задачу с помощью функции\n",
        "torch.nn.functional.pad. Но лучше придерживаться нечетных размеров ядер; ядра четного\n",
        "размера встречаются редко."
      ]
    },
    {
      "cell_type": "markdown",
      "metadata": {
        "id": "-RQMnKnqO-d_"
      },
      "source": [
        "# 8.2.2. Обнаружение признаков с помощью сверток"
      ]
    },
    {
      "cell_type": "markdown",
      "metadata": {
        "id": "PTwcJZbTQMxd"
      },
      "source": [
        "Мы уже говорили, что weight и bias — это параметры, усваиваемые посредством\n",
        "обратного распространения ошибки, точно так же, как weight и bias в nn.Linear.\n",
        "Однако можно поэкспериментировать со сверткой, задавая весовые коэффициенты вручную, и посмотреть, что получится.\n",
        "Сначала обнулим bias, просто чтобы исключить все мешающие факторы, после\n",
        "чего зададимконстантное значение weight, чтобы каждый пиксель выходного изображения получал среднее значение своих соседей. Для каждой окрестности 3 × 3:"
      ]
    },
    {
      "cell_type": "code",
      "execution_count": 9,
      "metadata": {
        "id": "bV8kLNxXOV_-"
      },
      "outputs": [],
      "source": [
        "with torch.no_grad():\n",
        "     conv.bias.zero_()\n",
        "\n",
        "with torch.no_grad():\n",
        "     conv.weight.fill_(1.0 / 9.0)"
      ]
    },
    {
      "cell_type": "markdown",
      "metadata": {
        "id": "BP_oC1l0Q-O_"
      },
      "source": [
        "Можно было воспользоваться conv.weight.one_() — при этом каждый пиксель\n",
        "выходного изображения был бы равен сумме окрестных пикселей. Различия незначительны, разве что значения пикселей в выходном изображении оказались\n",
        "бы в девять раз больше"
      ]
    },
    {
      "cell_type": "markdown",
      "metadata": {
        "id": "dPt3kriGRBgi"
      },
      "source": [
        "В любом случае взглянем, как это повлияет на наше изображение"
      ]
    },
    {
      "cell_type": "code",
      "execution_count": 10,
      "metadata": {
        "id": "NDnzWvuNQrRg"
      },
      "outputs": [
        {
          "data": {
            "image/png": "[encoded data removed]",
            "text/plain": [
              "<Figure size 640x480 with 1 Axes>"
            ]
          },
          "metadata": {},
          "output_type": "display_data"
        }
      ],
      "source": [
        "output = conv(img.unsqueeze(0))\n",
        "plt.imshow(output[0,0].detach(), cmap='gray')\n",
        "plt.show()"
      ]
    },
    {
      "cell_type": "code",
      "execution_count": 11,
      "metadata": {
        "id": "7xvpIztWSbo1"
      },
      "outputs": [],
      "source": [
        "conv = nn.Conv2d(3, 1, kernel_size=3, padding=1)\n",
        "with torch.no_grad():\n",
        "     conv.weight[:] = torch.tensor([[-1, 0, 1],\n",
        "                                   [-1, 0, 1],\n",
        "                                   [-1, 0, 1]])\n",
        "     conv.bias.zero_()"
      ]
    },
    {
      "cell_type": "markdown",
      "metadata": {
        "id": "CN-npJsVgl0W"
      },
      "source": [
        "# От большого к малому: понижающая дискретизация\n",
        "\n",
        "1. Усреднять значения четырех входных пикселей — изначально весьма распространенный подход под названием «усредняющая субд\n",
        "искретизация» (average pooling), несколько утративший популярность в последнее время;\n",
        "\n",
        "2. Брать максимум из значений четырех входных пикселей — в настоящее время чаще всего используется именно этот подход: субдискретизация с выбором максимального значения (max pooling). Его недостаток в том, что отбрасываются три четверти данных;\n",
        "\n",
        "3. Шаговая свертка (strided convolution), при которой учитывается лишь каждый N-й пиксель — свертка 3 × 4 с шагом 2 позволяет учесть значения всех пикселей предыдущего слоя. Судя по публикациям, этот подход весьмаперспективен, хотя и не вытеснил пока что субдискретизацию с выбором максимального значения\n",
        "\n",
        "![image.png](attachment:image.png)"
      ]
    },
    {
      "cell_type": "markdown",
      "metadata": {
        "id": "hpw7_P5bUGtw"
      },
      "source": [
        "Возможности субдискретизации с выбором максимального значения предоставляет модуль nn.MaxPool2d (как и для свертки, существуют его версии для одномерных и трехмерных данных). В качестве входного аргумента ему передается\n",
        "размер окрестности для работы операции субдискретизации. Например, для\n",
        "понижающей дискретизации изображения в два раза необходимо передавать\n",
        "значение 2. Давайте проверим, что все работает правильно, прямо на нашем\n",
        "входном изображении:"
      ]
    },
    {
      "cell_type": "code",
      "execution_count": 12,
      "metadata": {
        "id": "_37gOeK4gl0X"
      },
      "outputs": [],
      "source": [
        "pool = nn.MaxPool2d(2)\n",
        "output = pool(img.unsqueeze(0))"
      ]
    },
    {
      "cell_type": "code",
      "execution_count": 13,
      "metadata": {
        "id": "MI63_mgggl0X"
      },
      "outputs": [
        {
          "data": {
            "image/png": "[encoded data removed]",
            "text/plain": [
              "<Figure size 640x480 with 1 Axes>"
            ]
          },
          "metadata": {},
          "output_type": "display_data"
        }
      ],
      "source": [
        "plt.imshow(output[0, 0], cmap='gray');"
      ]
    },
    {
      "cell_type": "code",
      "execution_count": 14,
      "metadata": {
        "id": "CqdyA8lQgl0X"
      },
      "outputs": [
        {
          "data": {
            "text/plain": [
              "torch.Size([1, 3, 16, 16])"
            ]
          },
          "execution_count": 14,
          "metadata": {},
          "output_type": "execute_result"
        }
      ],
      "source": [
        "output.shape"
      ]
    },
    {
      "cell_type": "markdown",
      "metadata": {
        "id": "wUKUcE_kgl0Y"
      },
      "source": [
        "# Сочетание сверточных слоев и понижающей дискретизации для лучшего распознавания"
      ]
    },
    {
      "cell_type": "code",
      "execution_count": 15,
      "metadata": {
        "id": "QPdhTRULgl0Y"
      },
      "outputs": [],
      "source": [
        "# model = nn.Sequential(\n",
        "#     nn.Conv2d(3, 16, padding=1, kernel_sise=3),\n",
        "#     nn.Tanh(),\n",
        "#     nn.MaxPool2d(2),\n",
        "#     nn.Conv2d(16, 8, padding=1, kernel_size=3),\n",
        "#     nn.Tanh(),\n",
        "#     nn.MaxPool2d(2),\n",
        "#     ...,\n",
        "#     nn.Linear(8*8*8, 32),\n",
        "#     nn.Tanh(),\n",
        "#     nn.Linear(32, 2)\n",
        "# )"
      ]
    },
    {
      "cell_type": "markdown",
      "metadata": {
        "id": "g4vV3DRMonc8"
      },
      "source": [
        "# 8.3.1. Наша сеть как подкласс nn.Module"
      ]
    },
    {
      "cell_type": "markdown",
      "metadata": {
        "id": "46Jn7E5CpaSS"
      },
      "source": [
        "Напишем нашу сеть в виде подмодуля. Для этого создадим все экземпляры\n",
        "всех слоев nn.Conv2d, nn.Linear и т. д., которые выше передавали в конструктор,\n",
        "а затем воспользуемся этими экземплярами один за другим в функции forward:"
      ]
    },
    {
      "cell_type": "code",
      "execution_count": 16,
      "metadata": {
        "id": "Yzc9O7DfooyI"
      },
      "outputs": [],
      "source": [
        "class Net(nn.Module):\n",
        "      def __init__(self):\n",
        "          super().__init__()\n",
        "          self.conv1 = nn.Conv2d(3, 16, kernel_size=3, padding=1)\n",
        "          self.act1 = nn.Tanh()\n",
        "          self.pool1 = nn.MaxPool2d(2)\n",
        "          self.conv2 = nn.Conv2d(16, 8, kernel_size=3, padding=1)\n",
        "          self.act2 = nn.Tanh()\n",
        "          self.pool2 = nn.MaxPool2d(2)\n",
        "          self.fc1 = nn.Linear(8 * 8 * 8, 32)\n",
        "          self.act3 = nn.Tanh()\n",
        "          self.fc2 = nn.Linear(32, 2)\n",
        "\n",
        "      def forward(self, x):\n",
        "          out = self.pool1(self.act1(self.conv1(x)))\n",
        "          out = self.pool2(self.act2(self.conv2(out)))\n",
        "          out = out.view(-1, 8 * 8 * 8) # Шаг изменения формы, который отсутствовал у нас ранее\n",
        "          out = self.act3(self.fc1(out))\n",
        "          out = self.fc2(out)\n",
        "          return out"
      ]
    },
    {
      "cell_type": "markdown",
      "metadata": {
        "id": "cNgR93rjyDpi"
      },
      "source": [
        "![image.png](data:image/png;base64,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)"
      ]
    },
    {
      "cell_type": "markdown",
      "metadata": {
        "id": "xC6RQNhozyS3"
      },
      "source": [
        "# 8.3.2. Как PyTorch отслеживает параметры и подмодули"
      ]
    },
    {
      "cell_type": "markdown",
      "metadata": {
        "id": "MWNBzIwlz2Dk"
      },
      "source": [
        "Можно вызывать любые методы подкласса nn.Module. Например, в модели,\n",
        "где процесс обучения существенно отличается от, скажем, предсказания, не\n",
        "помешает метод predict. Учтите, что вызовы подобных методов аналогичны\n",
        "вызову forward вместо самого модуля: они ничего не знают о точках привязки,\n",
        "и JIT при их использовании не видит структуры модуля, поскольку отсутствует\n",
        "эквивалент элементов __call__, показанных в подразделе 6.2.1.\n",
        "Благодаря этому для доступа из Net к параметрам подмодулей не требуется\n",
        "каких-либо дополнительных действий пользователя:"
      ]
    },
    {
      "cell_type": "code",
      "execution_count": 17,
      "metadata": {
        "id": "mEtYIRpVrflT"
      },
      "outputs": [],
      "source": [
        "model = Net()"
      ]
    },
    {
      "cell_type": "code",
      "execution_count": 18,
      "metadata": {
        "id": "KE6cSKniz4E5"
      },
      "outputs": [],
      "source": [
        "numel_list = [p.numel() for p in model.parameters()]"
      ]
    },
    {
      "cell_type": "code",
      "execution_count": 19,
      "metadata": {
        "id": "dS3xagKQ0AIB"
      },
      "outputs": [
        {
          "data": {
            "text/plain": [
              "(18090, [432, 16, 1152, 8, 16384, 32, 64, 2])"
            ]
          },
          "execution_count": 19,
          "metadata": {},
          "output_type": "execute_result"
        }
      ],
      "source": [
        "sum(numel_list), numel_list"
      ]
    },
    {
      "cell_type": "code",
      "execution_count": 20,
      "metadata": {
        "id": "BFTxEvOh0Cp6"
      },
      "outputs": [],
      "source": [
        "import torch.nn.functional as F\n",
        "\n",
        "class Net(nn.Module):\n",
        "      def __init__(self):\n",
        "          super().__init__()\n",
        "          self.conv1 = nn.Conv2d(3, 16, kernel_size=3, padding=1)\n",
        "          self.conv2 = nn.Conv2d(16, 8, kernel_size=3, padding=1)\n",
        "          self.fc1 = nn.Linear(8 * 8 * 8, 32)\n",
        "          self.fc2 = nn.Linear(32, 2)\n",
        "\n",
        "      def forward(self, x):\n",
        "          out = F.max_pool2d(torch.tanh(self.conv1(x)), 2)\n",
        "          out = F.max_pool2d(torch.tanh(self.conv2(out)), 2)\n",
        "          out = out.view(-1, 8 * 8 * 8)\n",
        "          out = torch.tanh(self.fc1(out))\n",
        "          out = self.fc2(out)\n",
        "          return out"
      ]
    },
    {
      "cell_type": "markdown",
      "metadata": {
        "id": "oHsLtsLN5HkA"
      },
      "source": [
        "Намного лаконичнее и полностью эквивалентно предыдущему описанию класса Net из подраздела 8.3.1. Обратите внимание, что по-прежнему имеет смысл\n",
        "создать экземпляры модулей, требующих несколько параметров для их инициализации в конструкторе."
      ]
    },
    {
      "cell_type": "markdown",
      "metadata": {
        "id": "kUxgfzDE6oTS"
      },
      "source": [
        "Давайте еще раз проверим, что наша модель работает, а затем перейдем к циклу\n",
        "обучения:"
      ]
    },
    {
      "cell_type": "code",
      "execution_count": 21,
      "metadata": {
        "id": "j2BsMgO15ECi"
      },
      "outputs": [],
      "source": [
        "model = Net()\n",
        "output = model(img.unsqueeze(0))"
      ]
    },
    {
      "cell_type": "code",
      "execution_count": 22,
      "metadata": {
        "id": "zgDVif_J6qf-"
      },
      "outputs": [
        {
          "data": {
            "text/plain": [
              "tensor([[-0.3200,  0.0676]], grad_fn=<AddmmBackward0>)"
            ]
          },
          "execution_count": 22,
          "metadata": {},
          "output_type": "execute_result"
        }
      ],
      "source": [
        "output"
      ]
    },
    {
      "cell_type": "markdown",
      "metadata": {
        "id": "tAsZqz9uEZN-"
      },
      "source": [
        "# 8.4. Обучаем нашу сверточную сеть"
      ]
    },
    {
      "cell_type": "code",
      "execution_count": 23,
      "metadata": {
        "id": "q31z0wBPEHuL"
      },
      "outputs": [],
      "source": [
        "import datetime\n",
        "\n",
        "def training_loop(n_epochs, optimizer, model, loss_fn, train_loader):\n",
        "    for epoch in range(1, n_epochs+1):\n",
        "        loss_train = 0.0\n",
        "        for imgs, labels in train_loader:\n",
        "            outputs =  model(imgs)\n",
        "            loss = loss_fn(outputs, labels)\n",
        "            optimizer.zero_grad()\n",
        "            loss.backward()\n",
        "            optimizer.step()\n",
        "            loss_train+=loss.item()\n",
        "\n",
        "        if epoch == 1 or epoch % 10 == 0:\n",
        "           print('{} Epoch {}, Training loss {}'. format(\n",
        "                 datetime.datetime.now(), epoch,\n",
        "                 loss_train / len(train_loader)))"
      ]
    },
    {
      "cell_type": "code",
      "execution_count": 24,
      "metadata": {
        "id": "KK59i0jzHy1Q"
      },
      "outputs": [],
      "source": [
        "# train_loader = torch.utils.data.DataLoader(cifar2, batch_size=64, shuffle=True)\n",
        "# model = Net()\n",
        "# optimizer = optim.SGD(model.parameters(), lr=1e-2)\n",
        "# loss_fn = nn.CrossEntropyLoss()\n",
        "\n",
        "# training_loop(\n",
        "#     n_epochs = 100,\n",
        "#     optimizer = optimizer,\n",
        "#     model = model,\n",
        "#     loss_fn = loss_fn,\n",
        "#     train_loader = train_loader\n",
        "# )"
      ]
    },
    {
      "cell_type": "markdown",
      "metadata": {
        "id": "79j1nhj1SZA_"
      },
      "source": [
        "# 8.4.1. Измерение степени безошибочности"
      ]
    },
    {
      "cell_type": "code",
      "execution_count": 25,
      "metadata": {
        "id": "9kcH_wBOIj1u"
      },
      "outputs": [],
      "source": [
        "train_loader = torch.utils.data.DataLoader(cifar2, batch_size=64, shuffle=False)\n",
        "val_loader = torch.utils.data.DataLoader(cifar2_val, batch_size=64, shuffle=False)"
      ]
    },
    {
      "cell_type": "code",
      "execution_count": 26,
      "metadata": {
        "id": "BkuFIJJTTyP3"
      },
      "outputs": [],
      "source": [
        "def validate(model, train_loader, val_loader):\n",
        "    for name, loader in [('train', train_loader), ('val', val_loader)]:\n",
        "        correct = 0\n",
        "        total = 0\n",
        "\n",
        "        with torch.no_grad():\n",
        "            for imgs, labels in loader:\n",
        "                outputs = model(imgs)\n",
        "                _, predicted = torch.max(outputs, dim=1)\n",
        "                total += labels.shape[0]\n",
        "                correct += int((predicted == labels).sum())\n",
        "\n",
        "            print(\"Accuracy {}: {:.2f}\".format(name, correct / total))"
      ]
    },
    {
      "cell_type": "code",
      "execution_count": 27,
      "metadata": {
        "id": "m2PWLTO-WM0a"
      },
      "outputs": [],
      "source": [
        "# validate(model, train_loader, val_loader)"
      ]
    },
    {
      "cell_type": "markdown",
      "metadata": {
        "id": "ytjnsQCLZDhb"
      },
      "source": [
        "# 8.4.2. Сохранение и загрузка модели\n",
        "Поскольку мы пока что удовлетворены результатами работы модели, не помешает ее сохранить, правда? Сделать это очень просто. Давайте сохраним\n",
        "модель в файл:"
      ]
    },
    {
      "cell_type": "code",
      "execution_count": 28,
      "metadata": {
        "id": "Ji40zBSpWilD"
      },
      "outputs": [],
      "source": [
        "# torch.save(model.state_dict(), data_path + 'birds_vs_airplanes.pt')"
      ]
    },
    {
      "cell_type": "markdown",
      "metadata": {
        "id": "ikkYVNNDahL4"
      },
      "source": [
        "Файл birds_vs_airplanes.pt теперь содержит все параметры объекта model:\n",
        "весовые коэффициенты и смещения для двух модулей свертки и двух линейных\n",
        "модулей. Да, никакой структуры, только весовые коэффициенты. Это значит,\n",
        "что при развертывании модели для нашего друга в реальных условиях нам понадобится описание класса model, а еще нужно будет создать экземпляр и затем\n",
        "загрузить в него обратно параметры:"
      ]
    },
    {
      "cell_type": "code",
      "execution_count": 29,
      "metadata": {
        "id": "BGpcMyi5Ze6m"
      },
      "outputs": [],
      "source": [
        "# loaded_model = Net() # Нужно убедиться, что мы не меняем определение сети между сохранением и последующей загрузкой состояния модели\n",
        "# loaded_model.load_state_dict(torch.load(data_path + 'birds_vs_airplanes.pt'))"
      ]
    },
    {
      "cell_type": "markdown",
      "metadata": {
        "id": "IZj_6MIja2SR"
      },
      "source": [
        "# 8.4.3. Обучение на GPU"
      ]
    },
    {
      "cell_type": "code",
      "execution_count": 30,
      "metadata": {
        "id": "FSSSstJxaeqm"
      },
      "outputs": [
        {
          "name": "stdout",
          "output_type": "stream",
          "text": [
            "Training on device cuda.\n"
          ]
        }
      ],
      "source": [
        "device = (torch.device('cuda') if torch.cuda.is_available()\n",
        "          else torch.device('cpu'))\n",
        "print(f\"Training on device {device}.\")"
      ]
    },
    {
      "cell_type": "code",
      "execution_count": 31,
      "metadata": {
        "id": "8wttSuJOdO1J"
      },
      "outputs": [],
      "source": [
        "import datetime\n",
        "\n",
        "def training_loop(n_epochs, optimizer, model, loss_fn, train_loader):\n",
        "    for epoch in range(1, n_epochs+1):\n",
        "        loss_train = 0.0\n",
        "        for imgs, labels in train_loader:\n",
        "            imgs = imgs.to(device=device)\n",
        "            labels = labels.to(device=device)\n",
        "            outputs = model(imgs)\n",
        "            loss = loss_fn(outputs, labels)\n",
        "\n",
        "            optimizer.zero_grad()\n",
        "            loss.backward()\n",
        "            optimizer.step()\n",
        "\n",
        "            loss_train += loss.item()\n",
        "\n",
        "        if epoch == 1 or epoch % 10 == 0:\n",
        "           print('{} Epoch {}, Training Loss {}'.format(\n",
        "              datetime.datetime.now(), epoch,\n",
        "              loss_train / len(train_loader)))"
      ]
    },
    {
      "cell_type": "code",
      "execution_count": 32,
      "metadata": {
        "id": "CFIvhKN3iCKn"
      },
      "outputs": [
        {
          "name": "stdout",
          "output_type": "stream",
          "text": [
            "2023-11-21 17:38:54.986444 Epoch 1, Training Loss 0.5934838140086763\n",
            "2023-11-21 17:39:04.210401 Epoch 10, Training Loss 0.32969986936848633\n",
            "2023-11-21 17:39:20.555051 Epoch 20, Training Loss 0.2905838650882624\n",
            "2023-11-21 17:39:36.409375 Epoch 30, Training Loss 0.2616329140913714\n",
            "2023-11-21 17:39:52.391752 Epoch 40, Training Loss 0.24105604567155717\n",
            "2023-11-21 17:40:08.386710 Epoch 50, Training Loss 0.22387912356929415\n",
            "2023-11-21 17:40:25.540510 Epoch 60, Training Loss 0.2068202655026867\n",
            "2023-11-21 17:40:41.593334 Epoch 70, Training Loss 0.191192457725288\n",
            "2023-11-21 17:40:57.506494 Epoch 80, Training Loss 0.1772315551758192\n",
            "2023-11-21 17:41:12.896247 Epoch 90, Training Loss 0.16323486029817041\n",
            "2023-11-21 17:41:28.349636 Epoch 100, Training Loss 0.14823432273830578\n"
          ]
        }
      ],
      "source": [
        "train_loader = torch.utils.data.DataLoader(cifar2, batch_size=64, shuffle=True)\n",
        "model = Net().to(device=device)\n",
        "optimizer = optim.SGD(model.parameters(),  lr=1e-2)\n",
        "loss_fn = nn.CrossEntropyLoss()\n",
        "training_loop(\n",
        "    n_epochs = 100,\n",
        "    optimizer = optimizer,\n",
        "    model = model,\n",
        "    loss_fn = loss_fn,\n",
        "    train_loader = train_loader,\n",
        ")"
      ]
    },
    {
      "cell_type": "markdown",
      "metadata": {
        "id": "SW7lQmAZt04B"
      },
      "source": [
        "Небольшая сложность при загрузке весовых коэффициентов сети: PyTorch попытается загрузить веса на то же устройство, с которого они были сохранены,\n",
        "то есть весовые коэффициенты с GPU будут восстановлены на GPU. Поскольку\n",
        "неизвестно, нужно ли нам то же устройство, существует два варианта: перенести\n",
        "сеть на CPU перед сохранением или вернуть ее обратно после восстановления.\n",
        "Более лаконичным вариантом будет потребовать от PyTorch переопределить\n",
        "информацию об устройстве при загрузке весовых коэффициентов. Сделать\n",
        "это можно посредством передачи методу torch.load ключевого аргумента\n",
        "map_location:"
      ]
    },
    {
      "cell_type": "code",
      "execution_count": null,
      "metadata": {
        "id": "s2PuEEvlnCMo"
      },
      "outputs": [],
      "source": [
        "loaded_model = Net().to(device=device)\n",
        "loaded_model.load_state_dict(torch.load(data_path + 'birds_vs_airplanes.pt', map_location=device))"
      ]
    },
    {
      "cell_type": "markdown",
      "metadata": {},
      "source": [
        "# 8.5.1. Расширение объема памяти: ширина"
      ]
    },
    {
      "cell_type": "markdown",
      "metadata": {},
      "source": [
        "Чтобы не нужно было жестко «зашивать» числа в описании модели, удобно\n",
        "передавать параметр init и параметризовать ширину модели, не забывая также\n",
        "добавить параметр в вызов view в функции forward:"
      ]
    },
    {
      "cell_type": "code",
      "execution_count": 33,
      "metadata": {
        "id": "-XQka-ZPtcTG"
      },
      "outputs": [],
      "source": [
        "class NetWidth(nn.Module):\n",
        "    def __init__(self, n_chans1=32):\n",
        "        super().__init__()\n",
        "        self.conv1 = nn.Conv2d(3, n_chans1, kernel_size=3, padding=1)\n",
        "        self.conv2 = nn.Conv2d(n_chans1, n_chans1 // 2, kernel_size=3, padding=1)\n",
        "        self.fc1 = nn.Linear(8 * 8 * n_chans1 // 2, 32)\n",
        "        self.fc2 = nn.Linear(32, 2)\n",
        "\n",
        "    def forward(self, x):\n",
        "        out = F.max_pool2d(torch.tanh(self.conv1(x), 2))\n",
        "        out = F.max_pool2d(torch.tanh(self.conv2(out), 2))\n",
        "        out = out.view(-1, 8 * 8 * self.n_chans1 // 2)\n",
        "        out = self.fc2(out)\n",
        "        return out"
      ]
    },
    {
      "cell_type": "code",
      "execution_count": 35,
      "metadata": {},
      "outputs": [],
      "source": [
        "model = NetWidth()"
      ]
    },
    {
      "cell_type": "markdown",
      "metadata": {},
      "source": [
        "Количество каналов и признаков для каждого слоя непосредственно связано\n",
        "с числом параметров модели: при прочих равных условиях они повышают\n",
        "разрешающие возможности (capacity) модели. Можно посмотреть, как мы уже\n",
        "делали ранее, сколько параметров у нашей модели теперь:"
      ]
    },
    {
      "cell_type": "code",
      "execution_count": 36,
      "metadata": {},
      "outputs": [
        {
          "data": {
            "text/plain": [
              "38386"
            ]
          },
          "execution_count": 36,
          "metadata": {},
          "output_type": "execute_result"
        }
      ],
      "source": [
        "sum(p.numel() for p in model.parameters())"
      ]
    },
    {
      "cell_type": "markdown",
      "metadata": {},
      "source": [
        "Чем больше разрешающие возможности модели, тем с большей степенью изменчивости входных сигналов сможет справиться модель, но в то же время\n",
        "тем выше вероятность переобучения, поскольку модель сможет воспользоваться дополнительными параметрами для запоминания несущественных\n",
        "аспектов входных данных. Мы уже обсуждали способы борьбы с переобучением, лучший из которых — увеличение размера выборки, или, в отсутствие\n",
        "новых данных, дополнение данных посредством искусственных изменений\n",
        "уже существующих."
      ]
    },
    {
      "cell_type": "markdown",
      "metadata": {},
      "source": [
        "# 8.5.2. Улучшаем сходимость модели и ее способности к обобщению: регуляризация"
      ]
    },
    {
      "cell_type": "markdown",
      "metadata": {},
      "source": [
        "В PyTorch можно довольно легко реализовать регуляризацию путем добавления\n",
        "коэффициента в формулу функции потерь. После вычисления функции потерь,\n",
        "какая бы она ни была, можно пройти в цикле по параметрам модели, суммируя\n",
        "их квадраты (для L2) или abs (для L1), и произвести обратное распространение\n",
        "ошибки:"
      ]
    },
    {
      "cell_type": "code",
      "execution_count": 39,
      "metadata": {},
      "outputs": [],
      "source": [
        "def training_loop_l2reg(n_epochs, optimizer, model, loss_fn, train_loader):\n",
        "    for epoch in range(1, n_epochs+1):\n",
        "        loss_train = 0.0\n",
        "        for imgs, labels in train_loader:\n",
        "            imgs = imgs.to(device=device)\n",
        "            labels = labels.to(device=device)\n",
        "            outputs = model(imgs)\n",
        "            loss = loss_fn(outputs, labels)\n",
        "            \n",
        "            l2_lambda = 0.001\n",
        "            l2_norm = sum(p.pow(2.0).sum() for p in model.parameters())\n",
        "            loss = loss + l2_lambda * l2_norm\n",
        "\n",
        "            optimizer.zero_grad()\n",
        "            loss.backward()\n",
        "            optimizer.step()\n",
        "\n",
        "            loss_train+=loss.item()\n",
        "        if epoch == 1 or epoch % 10 == 0:\n",
        "            print('{} Epoch {}, Training loss {}'.format(\n",
        "                datetime.datetime.now(), epoch, loss_train / len(train_loader)))"
      ]
    },
    {
      "cell_type": "markdown",
      "metadata": {},
      "source": [
        "Впрочем, в оптимизаторе SGD в PyTorch уже есть параметр weight_decay, соответствующий 2 * lambda, который напрямую осуществляет затухание весов\n",
        "во время их обновления, как описывалось выше. Он полностью эквивалентен\n",
        "прибавлению L2-нормы весовых коэффициентов к функции потерь без необходимости накопления в функции потерь и вовлечения автоматического\n",
        "вычисления градиентов."
      ]
    },
    {
      "cell_type": "markdown",
      "metadata": {},
      "source": [
        "# Не слишком полагаемся на отдельные входные сигналы: дропаут"
      ]
    },
    {
      "cell_type": "markdown",
      "metadata": {},
      "source": [
        "Фактически в результате этой процедуры на каждой итерации формируются\n",
        "слегка отличающиеся модели с различными топологиями нейронов, уменьшая\n",
        "шансы нейронов модели скоординироваться в процессе запоминания, что происходит при переобучении. Можно также считать, что дропаут вносит возмущения\n",
        "в генерируемые моделью признаки, производя эффект, схожий с дополнением\n",
        "данных, но на этот раз по всей сети.\n",
        "В PyTorch можно реализовать дропаут в модели с помощью добавления модуля\n",
        "nn.Dropoutмежду нелинейной функцией активации и линейным или сверточным\n",
        "модулем последующего слоя. В качестве аргумента необходимо указать вероятность, с которой будут обнуляться входные сигналы. Для сверток необходимо\n",
        "использовать специализированные слои nn.Dropout2d или nn.Dropout3d, обнуляющие целые каналы входных сигналов:"
      ]
    },
    {
      "cell_type": "code",
      "execution_count": 42,
      "metadata": {},
      "outputs": [],
      "source": [
        "class NetDropout(nn.Module):\n",
        "    def __init__(self, n_chans1=32):\n",
        "        super().__init__()\n",
        "        self.conv1 = nn.conv2d(3, n_chans1, kernel_size=3, padding=1)\n",
        "        self.conv1_dropout = nn.Dropout2d(p=0.4)\n",
        "        self.conv2 = nn.conv2d(n_chans1, n_chans1 // 2, kernel_size=3, padding=1)\n",
        "        self.conv2_dropout = nn.Dropout(p=0.4)\n",
        "        self.fc1 = nn.Linear(8*8*n_chans1 // 2, 32)\n",
        "        self.fc2 = nn.Linear(32, 2)\n",
        "\n",
        "    def forward(self, x):\n",
        "        out = F.max_pool2d(torch.tanh(self.conv1(x)), 2)\n",
        "        out = self.conv1_dropout(out)\n",
        "        out = F.max_pool2d(torch.tanh(self.conv2(out)), 2)\n",
        "        out = self.conv2_dropout(out)\n",
        "        out = out.view(-1, 8 * 8 * n_chans // 2)\n",
        "        out = torch.tanh(self.fc1(out))\n",
        "        out = self.fc2(out)\n",
        "        return out"
      ]
    },
    {
      "cell_type": "markdown",
      "metadata": {},
      "source": [
        "В этом фрагменте текста обсуждается важный момент относительно использования модуля Dropout в PyTorch во время обучения и во время использования обученной модели в реальных условиях.\n",
        "\n",
        "1. **Во время обучения:**\n",
        "   - Во время обучения, когда модель подвергается обратному распространению ошибки и обновлению весов, Dropout применяется, и некоторые нейроны \"выключаются\" с вероятностью, указанной при создании слоя Dropout (например, `nn.Dropout(p=0.5)` означает 50% вероятность выключения).\n",
        "\n",
        "2. **Во время использования обученной модели:**\n",
        "   - Когда вы используете обученную модель для предсказания новых данных, вы обычно не хотите применять Dropout, так как это может привести к ненадежным и непредсказуемым результатам. В этот момент вероятность выключения должна быть равна нулю.\n",
        "   - PyTorch предоставляет методы `model.train()` и `model.eval()`, которые переключают модель между режимами обучения и оценки. Когда вы вызываете `model.train()`, модель находится в режиме обучения, и Dropout применяется. Когда вы вызываете `model.eval()`, модель переключается в режим оценки, и Dropout отключается.\n",
        "\n",
        "Пример:\n",
        "\n",
        "```python\n",
        "model = MyModelWithDropout()\n",
        "model.train()  # Переключаем модель в режим обучения\n",
        "# ... (обучение модели)\n",
        "model.eval()   # Переключаем модель в режим оценки перед использованием\n",
        "# ... (использование обученной модели для предсказаний)\n",
        "```\n",
        "\n",
        "Такой подход позволяет управлять поведением Dropout в различных фазах работы сети: во время обучения он применяется для регуляризации, а во время использования обученной модели - отключается для стабильных предсказаний."
      ]
    },
    {
      "cell_type": "markdown",
      "metadata": {},
      "source": [
        "# Держим активацию под контролем: нормализация по батчам"
      ]
    },
    {
      "cell_type": "markdown",
      "metadata": {},
      "source": [
        "На практике нормализация по батчам сдвигает и масштабирует промежуточные входные сигналы на основе среднего значения и стандартного отклонения,\n",
        "вычисленных в этой промежуточной точке по примерам данных мини-батча.\n",
        "Эффект от регуляризации основан на том, что отдельные примеры данных\n",
        "и следующие далее по конвейеру функции активации всегда рассматриваются\n",
        "моделью как сдвинутые и нормализованные, в зависимости от статистических\n",
        "показателей выделенного случайным образом мини-батча. Что само по себе\n",
        "является разновидностью систематического (principled) дополнения данных.\n",
        "Авторы статьи высказывают мнение, что нормализация по батчам исключает\n",
        "или по крайней мере сокращает необходимость в дропауте."
      ]
    },
    {
      "cell_type": "markdown",
      "metadata": {},
      "source": [
        "Нормализация по батчам в PyTorch производится с помощью модулей\n",
        "nn.BatchNorm1D, nn.BatchNorm2d и nn.BatchNorm3d, в зависимости от размерности входных данных. А поскольку цель нормализации по батчам — масштабировать входные сигналы функций активации, логично будет производить ее\n",
        "после линейного преобразования (свертки в данном случае) и активации, как\n",
        "показано здесь:"
      ]
    },
    {
      "cell_type": "code",
      "execution_count": null,
      "metadata": {},
      "outputs": [],
      "source": [
        "class NetBatchNorm(nn.Module):\n",
        "    def __init__(self, n_chans1=32):\n",
        "        super().__init__()\n",
        "        self.n_chans1 = n_chans1\n",
        "        self.conv1 = nn.Conv2d(3, n_chans1, kernel_size=3, padding=1)\n",
        "        self.conv1_batchnorm = nn.BatchNorm2d(num_features=n_chans1)\n",
        "        self.conv2 = nn.Conv2d(n_chans1, n_chans1 // 2, kernel_size=3, padding=1)\n",
        "        self.conv2_batchnorm = nn.BatchNorm2d(num_features=n_chans1)\n",
        "        self.fc1 = nn.Linear(8 * 8 * n_chans // 2, 32)\n",
        "        self.fc2 = nn.Linear(32, 2)\n",
        "\n",
        "    def forward(self, x):\n",
        "        out = self.conv1_batchnorm(self.conv1(x))\n",
        "        out = F.max_pool2d(torch.tanh(out), 2)\n",
        "        out = self.conv2_batchnorm(self.conv2(out))\n",
        "        out = F.max_pool2d(torch.tanh(out), 2)\n",
        "        out = out.view(-1, 8 * 8 * n_chans1 // 2)\n",
        "        out = torch.tanh(self.fc1(out))\n",
        "        out = self.fc2(out)\n",
        "        return out\n",
        "        "
      ]
    },
    {
      "cell_type": "markdown",
      "metadata": {},
      "source": [
        "# Обходные связи"
      ]
    },
    {
      "cell_type": "markdown",
      "metadata": {},
      "source": [
        "Обходные связи означают просто добавление входного сигнала какого-либо слоя\n",
        "к выходному сигналу одного из блоков слоев. Именно так они и реализуются\n",
        "в PyTorch. Добавим в нашу простую сверточную модель еще один слой и для разнообразия воспользуемся функцией активации ReLU. Наш несложный модуль\n",
        "с дополнительным слоем выглядит следующим образом:"
      ]
    },
    {
      "cell_type": "code",
      "execution_count": 45,
      "metadata": {},
      "outputs": [],
      "source": [
        "class NetRes(nn.Module):\n",
        "    def __init__(self, n_chans1=32):\n",
        "        super().__item__()\n",
        "        self.n_chans1 = n_chans1\n",
        "        self.conv1 = nn.Conv2d(3, n_chans1, kernel_size=3, padding=1)\n",
        "        self.conv2 = nn.Conv2d(n_chans1, n_chans // 2, kernel_size=3, padding=1)\n",
        "        self.conv3 = nn.Conv2d(n_chans // 2, n_chans // 2, kernel_size=3, padding=1)\n",
        "        self.fc1 = nn.Linear(4 * 4 * n_chans1 // 2, 32)\n",
        "        self.fc2 = nn.Linear(32, 2)\n",
        "\n",
        "    def forward(self, x):\n",
        "        out = F.max_pool2d(torch.relu(self.conv1(x)), 2)\n",
        "        out = F.max_pool2d(torch.relu(self.conv2(out)), 2)\n",
        "        out1 = out\n",
        "        out = F.max_pool2d(torch.relu(self.conv3(out)) + out1, 2)\n",
        "        out = out.view(-1, 4 * 4 * self.n_chans1 // 2)\n",
        "        out = torch.relu(self.fc1(out))\n",
        "        out = self.fc2(out)\n",
        "        return out"
      ]
    },
    {
      "cell_type": "markdown",
      "metadata": {},
      "source": [
        "Другими словами, мы воспользовались выходным сигналом первых функций\n",
        "активации в качестве входных сигналов для последних, помимо стандартного\n",
        "пути прямого распространения. Другое название этого процесса — тождественное отображение (identity mapping)."
      ]
    }
  ],
  "metadata": {
    "accelerator": "GPU",
    "colab": {
      "gpuType": "T4",
      "provenance": []
    },
    "kernelspec": {
      "display_name": "Python 3",
      "name": "python3"
    },
    "language_info": {
      "codemirror_mode": {
        "name": "ipython",
        "version": 3
      },
      "file_extension": ".py",
      "mimetype": "text/x-python",
      "name": "python",
      "nbconvert_exporter": "python",
      "pygments_lexer": "ipython3",
      "version": "3.11.5"
    }
  },
  "nbformat": 4,
  "nbformat_minor": 0
}
